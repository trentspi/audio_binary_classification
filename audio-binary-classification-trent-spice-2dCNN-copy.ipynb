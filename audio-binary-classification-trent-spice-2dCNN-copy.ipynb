{
 "cells": [
  {
   "cell_type": "code",
   "execution_count": 54,
   "metadata": {
    "ExecuteTime": {
     "end_time": "2019-09-24T21:30:22.713246Z",
     "start_time": "2019-09-24T21:30:22.695001Z"
    }
   },
   "outputs": [],
   "source": [
    "from tensorflow.keras.optimizers import Adam, SGD, Adagrad, Adadelta, RMSprop\n",
    "from tensorflow.keras.utils import to_categorical\n",
    "from tensorflow.keras.layers import Conv2D, MaxPooling2D, GlobalAveragePooling2D, BatchNormalization\n",
    "from tensorflow.keras.layers import Dense, Dropout, Activation, Flatten\n",
    "from tensorflow.keras.models import Sequential\n",
    "from tensorflow.keras import backend as K\n",
    "from tensorflow.keras import Input, layers\n",
    "from tensorflow.keras.datasets import mnist\n",
    "from tensorflow.keras.preprocessing.image import ImageDataGenerator\n",
    "import os\n",
    "import os\n",
    "from os.path import isdir, join\n",
    "from pathlib import Path\n",
    "import pandas as pd\n",
    "\n",
    "# Math\n",
    "import random as rn\n",
    "import numpy as np\n",
    "from scipy.fftpack import fft\n",
    "from scipy import signal\n",
    "from scipy.io import wavfile\n",
    "\n",
    "import sounddevice as sd\n",
    "\n",
    "import pandas as pd\n",
    "import tensorflow as tf\n",
    "import glob\n",
    "\n",
    "from sklearn.model_selection import train_test_split\n",
    "from sklearn.model_selection import KFold\n",
    "from sklearn.metrics import accuracy_score, precision_score, recall_score, confusion_matrix, roc_curve, roc_auc_score\n",
    "from sklearn.model_selection import GridSearchCV\n",
    "from sklearn.preprocessing import LabelEncoder\n",
    "\n",
    "import IPython.display as ipd\n",
    "\n",
    "import matplotlib.pyplot as plt\n",
    "import matplotlib.image as mpimg\n",
    "from matplotlib import style\n",
    "import seaborn as sns\n",
    "\n",
    "%matplotlib inline\n",
    "sns.set(style='whitegrid', color_codes=True)\n",
    "\n",
    "# Pre processing\n",
    "\n",
    "# Deep learning"
   ]
  },
  {
   "cell_type": "code",
   "execution_count": 55,
   "metadata": {
    "ExecuteTime": {
     "end_time": "2019-09-24T21:30:25.085162Z",
     "start_time": "2019-09-24T21:30:25.082397Z"
    }
   },
   "outputs": [],
   "source": [
    "seed = 100\n",
    "np.random.seed(seed)\n",
    "rn.seed(seed)\n",
    "tf.set_random_seed(seed)"
   ]
  },
  {
   "cell_type": "code",
   "execution_count": 56,
   "metadata": {
    "ExecuteTime": {
     "end_time": "2019-09-24T21:30:30.768399Z",
     "start_time": "2019-09-24T21:30:25.551347Z"
    }
   },
   "outputs": [],
   "source": [
    "labels = pd.read_csv('train_labels.csv')\n",
    "sample_solution = pd.read_csv('sample_submission.csv')\n",
    "train = np.load('train_data.npy')\n",
    "test = np.load('test_data.npy')"
   ]
  },
  {
   "cell_type": "code",
   "execution_count": 71,
   "metadata": {
    "ExecuteTime": {
     "end_time": "2019-09-24T21:31:58.486990Z",
     "start_time": "2019-09-24T21:31:58.474311Z"
    }
   },
   "outputs": [
    {
     "name": "stdout",
     "output_type": "stream",
     "text": [
      "(3999, 44100)\n",
      "(3997, 44100)\n",
      "(3999, 2)\n"
     ]
    }
   ],
   "source": [
    "print(train.shape)\n",
    "print(test.shape)\n",
    "print(labels.shape)"
   ]
  },
  {
   "cell_type": "code",
   "execution_count": 72,
   "metadata": {
    "ExecuteTime": {
     "end_time": "2019-09-24T21:32:00.661471Z",
     "start_time": "2019-09-24T21:32:00.645166Z"
    }
   },
   "outputs": [],
   "source": [
    "# sampling frequency\n",
    "fs = 44100\n",
    "#sd.play(train[6], fs)\n",
    "sd.play(test[34], fs)"
   ]
  },
  {
   "cell_type": "code",
   "execution_count": 191,
   "metadata": {
    "ExecuteTime": {
     "end_time": "2019-09-24T22:12:15.322158Z",
     "start_time": "2019-09-24T22:12:14.869211Z"
    }
   },
   "outputs": [
    {
     "name": "stdout",
     "output_type": "stream",
     "text": [
      "[1. 0.]\n",
      "TRAIN SHAPE\n",
      "(3399, 210, 210, 1) (3399, 2)\n",
      "TEST SHAPE\n",
      "(600, 210, 210, 1) (600, 2)\n"
     ]
    }
   ],
   "source": [
    "# train: we see 3999 records of data with sampling frequency of 44100\n",
    "# test: we see 3997 records of data with sampling frequency of 44100\n",
    "\n",
    "drop_labels = labels.drop('Id',1)\n",
    "Y = to_categorical(drop_labels ,2)\n",
    "\n",
    "print(Y[2])\n",
    "\n",
    "train_2d = train.reshape(-1,210,210,1)\n",
    "test_2d = test.reshape(-1,210,210,1)\n",
    "\n",
    "x_train, x_test, y_train, y_test = train_test_split(\n",
    "    train_2d, Y, test_size=0.15, random_state=seed)\n",
    "\n",
    "\n",
    "print(\"TRAIN SHAPE\")\n",
    "print(x_train.shape, y_train.shape)\n",
    "print(\"TEST SHAPE\")\n",
    "print(x_test.shape, y_test.shape)"
   ]
  },
  {
   "cell_type": "code",
   "execution_count": 192,
   "metadata": {
    "ExecuteTime": {
     "end_time": "2019-09-24T22:12:16.157231Z",
     "start_time": "2019-09-24T22:12:16.140633Z"
    }
   },
   "outputs": [
    {
     "name": "stdout",
     "output_type": "stream",
     "text": [
      "# of samples / timestamps: 3399\n",
      "frequency    / features  : 210\n",
      "# of outputs / outputs   : 3399\n"
     ]
    }
   ],
   "source": [
    "n_timesteps, n_features, n_outputs = x_train.shape[0], x_train.shape[1], y_train.shape[0]\n",
    "print('# of samples / timestamps:', n_timesteps)\n",
    "print('frequency    / features  :', n_features)\n",
    "print('# of outputs / outputs   :', n_outputs)"
   ]
  },
  {
   "cell_type": "code",
   "execution_count": 248,
   "metadata": {
    "ExecuteTime": {
     "end_time": "2019-09-24T22:37:03.169805Z",
     "start_time": "2019-09-24T22:37:03.046183Z"
    }
   },
   "outputs": [],
   "source": [
    "# create convolution neural network\n",
    "model = Sequential()\n",
    "model.add(Conv2D(filters = 16, kernel_size=(3, 3),\n",
    "                padding = 'same',\n",
    "                activation = 'tanh',\n",
    "                input_shape=(210,210,1)))\n",
    "model.add(MaxPooling2D(pool_size=(2, 2), strides=2))\n",
    "model.add(Conv2D(filters = 16, kernel_size = (3,3), activation='tanh'))\n",
    "model.add(MaxPooling2D(pool_size=(2, 2), strides=2))\n",
    "model.add(Conv2D(filters = 32, kernel_size = (3,3), activation='tanh'))\n",
    "model.add(MaxPooling2D(pool_size=(2, 2), strides=2))\n",
    "model.add(Conv2D(filters = 32, kernel_size = (3,3), activation='tanh'))\n",
    "model.add(MaxPooling2D(pool_size=(2, 2), strides=2))\n",
    "model.add(Flatten())\n",
    "model.add(Dense(64, activation='tanh')),\n",
    "model.add(Dense(32, activation='tanh')),\n",
    "model.add(Dense(2, activation='softmax'))"
   ]
  },
  {
   "cell_type": "code",
   "execution_count": 249,
   "metadata": {
    "ExecuteTime": {
     "end_time": "2019-09-24T22:37:03.534862Z",
     "start_time": "2019-09-24T22:37:03.523794Z"
    }
   },
   "outputs": [
    {
     "name": "stdout",
     "output_type": "stream",
     "text": [
      "Model: \"sequential_50\"\n",
      "_________________________________________________________________\n",
      "Layer (type)                 Output Shape              Param #   \n",
      "=================================================================\n",
      "conv2d_150 (Conv2D)          (None, 210, 210, 16)      160       \n",
      "_________________________________________________________________\n",
      "max_pooling2d_112 (MaxPoolin (None, 105, 105, 16)      0         \n",
      "_________________________________________________________________\n",
      "conv2d_151 (Conv2D)          (None, 103, 103, 16)      2320      \n",
      "_________________________________________________________________\n",
      "max_pooling2d_113 (MaxPoolin (None, 51, 51, 16)        0         \n",
      "_________________________________________________________________\n",
      "conv2d_152 (Conv2D)          (None, 49, 49, 32)        4640      \n",
      "_________________________________________________________________\n",
      "max_pooling2d_114 (MaxPoolin (None, 24, 24, 32)        0         \n",
      "_________________________________________________________________\n",
      "conv2d_153 (Conv2D)          (None, 22, 22, 32)        9248      \n",
      "_________________________________________________________________\n",
      "max_pooling2d_115 (MaxPoolin (None, 11, 11, 32)        0         \n",
      "_________________________________________________________________\n",
      "flatten_48 (Flatten)         (None, 3872)              0         \n",
      "_________________________________________________________________\n",
      "dense_97 (Dense)             (None, 64)                247872    \n",
      "_________________________________________________________________\n",
      "dense_98 (Dense)             (None, 32)                2080      \n",
      "_________________________________________________________________\n",
      "dense_99 (Dense)             (None, 2)                 66        \n",
      "=================================================================\n",
      "Total params: 266,386\n",
      "Trainable params: 266,386\n",
      "Non-trainable params: 0\n",
      "_________________________________________________________________\n"
     ]
    }
   ],
   "source": [
    "model.summary()"
   ]
  },
  {
   "cell_type": "code",
   "execution_count": 250,
   "metadata": {
    "ExecuteTime": {
     "end_time": "2019-09-24T22:37:04.025096Z",
     "start_time": "2019-09-24T22:37:04.020808Z"
    }
   },
   "outputs": [],
   "source": [
    "from tensorflow.keras.callbacks import ReduceLROnPlateau\n",
    "red_lr= ReduceLROnPlateau(monitor='val_acc',patience=3,verbose=1,factor=0.1)"
   ]
  },
  {
   "cell_type": "code",
   "execution_count": 251,
   "metadata": {
    "ExecuteTime": {
     "end_time": "2019-09-24T22:38:44.759458Z",
     "start_time": "2019-09-24T22:37:11.452896Z"
    }
   },
   "outputs": [
    {
     "name": "stdout",
     "output_type": "stream",
     "text": [
      "Train on 3399 samples, validate on 600 samples\n",
      "Epoch 1/35\n",
      "3399/3399 [==============================] - 4s 1ms/sample - loss: 0.3017 - acc: 0.8605 - val_loss: 0.1971 - val_acc: 0.9167\n",
      "Epoch 2/35\n",
      "3399/3399 [==============================] - 3s 759us/sample - loss: 0.2064 - acc: 0.9109 - val_loss: 0.1824 - val_acc: 0.9267\n",
      "Epoch 3/35\n",
      "3399/3399 [==============================] - 3s 755us/sample - loss: 0.1830 - acc: 0.9170 - val_loss: 0.1784 - val_acc: 0.9283\n",
      "Epoch 4/35\n",
      "3399/3399 [==============================] - 3s 761us/sample - loss: 0.1608 - acc: 0.9259 - val_loss: 0.1629 - val_acc: 0.9367\n",
      "Epoch 5/35\n",
      "3399/3399 [==============================] - 3s 760us/sample - loss: 0.1418 - acc: 0.9420 - val_loss: 0.1560 - val_acc: 0.9317\n",
      "Epoch 6/35\n",
      "3399/3399 [==============================] - 3s 760us/sample - loss: 0.1350 - acc: 0.9420 - val_loss: 0.1511 - val_acc: 0.9383\n",
      "Epoch 7/35\n",
      "3399/3399 [==============================] - 3s 765us/sample - loss: 0.1213 - acc: 0.9435 - val_loss: 0.1416 - val_acc: 0.9500\n",
      "Epoch 8/35\n",
      "3399/3399 [==============================] - 3s 761us/sample - loss: 0.1211 - acc: 0.9479 - val_loss: 0.1352 - val_acc: 0.9483\n",
      "Epoch 9/35\n",
      "3399/3399 [==============================] - 3s 763us/sample - loss: 0.1062 - acc: 0.9547 - val_loss: 0.1330 - val_acc: 0.9500\n",
      "Epoch 10/35\n",
      "3399/3399 [==============================] - 3s 768us/sample - loss: 0.0944 - acc: 0.9606 - val_loss: 0.1281 - val_acc: 0.9450\n",
      "Epoch 11/35\n",
      "3399/3399 [==============================] - 3s 770us/sample - loss: 0.0976 - acc: 0.9579 - val_loss: 0.1188 - val_acc: 0.9633\n",
      "Epoch 12/35\n",
      "3399/3399 [==============================] - 3s 763us/sample - loss: 0.0780 - acc: 0.9697 - val_loss: 0.1322 - val_acc: 0.9417\n",
      "Epoch 13/35\n",
      "3399/3399 [==============================] - 3s 761us/sample - loss: 0.0718 - acc: 0.9706 - val_loss: 0.1112 - val_acc: 0.9600\n",
      "Epoch 14/35\n",
      "3399/3399 [==============================] - 3s 761us/sample - loss: 0.0644 - acc: 0.9756 - val_loss: 0.1138 - val_acc: 0.9567\n",
      "Epoch 15/35\n",
      "3399/3399 [==============================] - 3s 759us/sample - loss: 0.0575 - acc: 0.9771 - val_loss: 0.1170 - val_acc: 0.9550\n",
      "Epoch 16/35\n",
      "3399/3399 [==============================] - 3s 765us/sample - loss: 0.0498 - acc: 0.9847 - val_loss: 0.1061 - val_acc: 0.9633\n",
      "Epoch 17/35\n",
      "3399/3399 [==============================] - 3s 770us/sample - loss: 0.0391 - acc: 0.9882 - val_loss: 0.1117 - val_acc: 0.9633\n",
      "Epoch 18/35\n",
      "3399/3399 [==============================] - 3s 763us/sample - loss: 0.0315 - acc: 0.9918 - val_loss: 0.1134 - val_acc: 0.9617\n",
      "Epoch 19/35\n",
      "3399/3399 [==============================] - 3s 762us/sample - loss: 0.0333 - acc: 0.9909 - val_loss: 0.1045 - val_acc: 0.9583\n",
      "Epoch 20/35\n",
      "3399/3399 [==============================] - 3s 770us/sample - loss: 0.0250 - acc: 0.9935 - val_loss: 0.1176 - val_acc: 0.9600\n",
      "Epoch 21/35\n",
      "3399/3399 [==============================] - 3s 773us/sample - loss: 0.0193 - acc: 0.9965 - val_loss: 0.1180 - val_acc: 0.9583\n",
      "Epoch 22/35\n",
      "3399/3399 [==============================] - 3s 765us/sample - loss: 0.0180 - acc: 0.9959 - val_loss: 0.1197 - val_acc: 0.9650\n",
      "Epoch 23/35\n",
      "3399/3399 [==============================] - 3s 766us/sample - loss: 0.0173 - acc: 0.9956 - val_loss: 0.1211 - val_acc: 0.9583\n",
      "Epoch 24/35\n",
      "3399/3399 [==============================] - 3s 764us/sample - loss: 0.0119 - acc: 0.9979 - val_loss: 0.1642 - val_acc: 0.9550\n",
      "Epoch 25/35\n",
      "3399/3399 [==============================] - 3s 774us/sample - loss: 0.0106 - acc: 0.9982 - val_loss: 0.1502 - val_acc: 0.9617\n",
      "Epoch 26/35\n",
      "3399/3399 [==============================] - 3s 770us/sample - loss: 0.0080 - acc: 0.9988 - val_loss: 0.1341 - val_acc: 0.9600\n",
      "Epoch 27/35\n",
      "3399/3399 [==============================] - 3s 771us/sample - loss: 0.0088 - acc: 0.9985 - val_loss: 0.1531 - val_acc: 0.9533\n",
      "Epoch 28/35\n",
      "3399/3399 [==============================] - 3s 771us/sample - loss: 0.0075 - acc: 0.9985 - val_loss: 0.1689 - val_acc: 0.9583\n",
      "Epoch 29/35\n",
      "3399/3399 [==============================] - 3s 742us/sample - loss: 0.0073 - acc: 0.9985 - val_loss: 0.1590 - val_acc: 0.9617\n",
      "Epoch 30/35\n",
      "3399/3399 [==============================] - 3s 745us/sample - loss: 0.0054 - acc: 0.9991 - val_loss: 0.1602 - val_acc: 0.9567\n",
      "Epoch 31/35\n",
      "3399/3399 [==============================] - 2s 708us/sample - loss: 0.0057 - acc: 0.9988 - val_loss: 0.1649 - val_acc: 0.9583\n",
      "Epoch 32/35\n",
      "3399/3399 [==============================] - 2s 709us/sample - loss: 0.0175 - acc: 0.9938 - val_loss: 0.4073 - val_acc: 0.9333\n",
      "Epoch 33/35\n",
      "3399/3399 [==============================] - 2s 696us/sample - loss: 0.1202 - acc: 0.9603 - val_loss: 0.1337 - val_acc: 0.9600\n",
      "Epoch 34/35\n",
      "3399/3399 [==============================] - 2s 723us/sample - loss: 0.0474 - acc: 0.9823 - val_loss: 0.1169 - val_acc: 0.9583\n",
      "Epoch 35/35\n",
      "3399/3399 [==============================] - 3s 765us/sample - loss: 0.0219 - acc: 0.9944 - val_loss: 0.1236 - val_acc: 0.9650\n"
     ]
    },
    {
     "data": {
      "text/plain": [
       "<tensorflow.python.keras.callbacks.History at 0x7f2ab1875bd0>"
      ]
     },
     "execution_count": 251,
     "metadata": {},
     "output_type": "execute_result"
    }
   ],
   "source": [
    "epochs, batch_size = 35, 147\n",
    "model.compile(optimizer=Adam(lr=0.001),loss='categorical_crossentropy',metrics=['accuracy'])\n",
    "# fit network\n",
    "model.fit(x_train, y_train, epochs=epochs, batch_size=batch_size,\n",
    "          validation_data=(x_test, y_test))"
   ]
  },
  {
   "cell_type": "code",
   "execution_count": 252,
   "metadata": {
    "ExecuteTime": {
     "end_time": "2019-09-24T22:38:47.597642Z",
     "start_time": "2019-09-24T22:38:47.371408Z"
    }
   },
   "outputs": [
    {
     "name": "stdout",
     "output_type": "stream",
     "text": [
      "600/600 [==============================] - 0s 354us/sample - loss: 0.1236 - acc: 0.9650\n"
     ]
    }
   ],
   "source": [
    "score = model.evaluate(x_test, y_test, batch_size=147)"
   ]
  },
  {
   "cell_type": "code",
   "execution_count": 253,
   "metadata": {
    "ExecuteTime": {
     "end_time": "2019-09-24T22:38:52.667568Z",
     "start_time": "2019-09-24T22:38:50.930628Z"
    }
   },
   "outputs": [],
   "source": [
    "final_predictions = model.predict_classes(test_2d)"
   ]
  },
  {
   "cell_type": "code",
   "execution_count": 254,
   "metadata": {
    "ExecuteTime": {
     "end_time": "2019-09-24T22:38:52.744999Z",
     "start_time": "2019-09-24T22:38:52.740455Z"
    }
   },
   "outputs": [],
   "source": [
    "sample_solution['Label'] = final_predictions"
   ]
  },
  {
   "cell_type": "code",
   "execution_count": 255,
   "metadata": {
    "ExecuteTime": {
     "end_time": "2019-09-24T22:38:56.276598Z",
     "start_time": "2019-09-24T22:38:56.258450Z"
    }
   },
   "outputs": [],
   "source": [
    "sample_solution.to_csv('audio_binary_classification_predict-5.csv', index=False)"
   ]
  },
  {
   "cell_type": "code",
   "execution_count": null,
   "metadata": {},
   "outputs": [],
   "source": []
  }
 ],
 "metadata": {
  "hide_input": false,
  "kernelspec": {
   "display_name": "Python (machine-learning)",
   "language": "python",
   "name": "machine-learning"
  },
  "language_info": {
   "codemirror_mode": {
    "name": "ipython",
    "version": 3
   },
   "file_extension": ".py",
   "mimetype": "text/x-python",
   "name": "python",
   "nbconvert_exporter": "python",
   "pygments_lexer": "ipython3",
   "version": "3.7.4"
  },
  "varInspector": {
   "cols": {
    "lenName": 16,
    "lenType": 16,
    "lenVar": 40
   },
   "kernels_config": {
    "python": {
     "delete_cmd_postfix": "",
     "delete_cmd_prefix": "del ",
     "library": "var_list.py",
     "varRefreshCmd": "print(var_dic_list())"
    },
    "r": {
     "delete_cmd_postfix": ") ",
     "delete_cmd_prefix": "rm(",
     "library": "var_list.r",
     "varRefreshCmd": "cat(var_dic_list()) "
    }
   },
   "position": {
    "height": "674px",
    "left": "1127px",
    "right": "20px",
    "top": "199px",
    "width": "693px"
   },
   "types_to_exclude": [
    "module",
    "function",
    "builtin_function_or_method",
    "instance",
    "_Feature"
   ],
   "window_display": false
  }
 },
 "nbformat": 4,
 "nbformat_minor": 2
}
