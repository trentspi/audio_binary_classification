{
 "cells": [
  {
   "cell_type": "code",
   "execution_count": 1,
   "metadata": {
    "ExecuteTime": {
     "end_time": "2019-09-24T22:42:01.430151Z",
     "start_time": "2019-09-24T22:41:56.807818Z"
    }
   },
   "outputs": [],
   "source": [
    "from tensorflow.keras.optimizers import Adam, SGD, Adagrad, Adadelta, RMSprop\n",
    "from tensorflow.keras.utils import to_categorical\n",
    "from tensorflow.keras.layers import Conv1D, MaxPooling1D, GlobalAveragePooling1D, BatchNormalization\n",
    "from tensorflow.keras.layers import Dense, Dropout, Activation, Flatten\n",
    "from tensorflow.keras.models import Sequential\n",
    "from tensorflow.keras import backend as K\n",
    "from tensorflow.keras import Input, layers\n",
    "from tensorflow.keras.datasets import mnist\n",
    "from tensorflow.keras.preprocessing.image import ImageDataGenerator\n",
    "import os\n",
    "import os\n",
    "from os.path import isdir, join\n",
    "from pathlib import Path\n",
    "import pandas as pd\n",
    "\n",
    "# Math\n",
    "import random as rn\n",
    "import numpy as np\n",
    "from scipy.fftpack import fft\n",
    "from scipy import signal\n",
    "from scipy.io import wavfile\n",
    "\n",
    "import sounddevice as sd\n",
    "\n",
    "import pandas as pd\n",
    "import tensorflow as tf\n",
    "import glob\n",
    "\n",
    "from sklearn.model_selection import train_test_split\n",
    "from sklearn.model_selection import KFold\n",
    "from sklearn.metrics import accuracy_score, precision_score, recall_score, confusion_matrix, roc_curve, roc_auc_score\n",
    "from sklearn.model_selection import GridSearchCV\n",
    "from sklearn.preprocessing import LabelEncoder\n",
    "\n",
    "import IPython.display as ipd\n",
    "\n",
    "import matplotlib.pyplot as plt\n",
    "import matplotlib.image as mpimg\n",
    "from matplotlib import style\n",
    "import seaborn as sns\n",
    "\n",
    "%matplotlib inline\n",
    "sns.set(style='whitegrid', color_codes=True)\n",
    "\n",
    "# Pre processing\n",
    "\n",
    "# Deep learning"
   ]
  },
  {
   "cell_type": "code",
   "execution_count": 2,
   "metadata": {
    "ExecuteTime": {
     "end_time": "2019-09-24T22:42:01.462728Z",
     "start_time": "2019-09-24T22:42:01.449617Z"
    }
   },
   "outputs": [],
   "source": [
    "seed = 100\n",
    "np.random.seed(seed)\n",
    "rn.seed(seed)\n",
    "tf.set_random_seed(seed)"
   ]
  },
  {
   "cell_type": "code",
   "execution_count": 3,
   "metadata": {
    "ExecuteTime": {
     "end_time": "2019-09-24T22:42:06.507639Z",
     "start_time": "2019-09-24T22:42:01.483532Z"
    }
   },
   "outputs": [],
   "source": [
    "labels = pd.read_csv('train_labels.csv')\n",
    "sample_solution = pd.read_csv('sample_submission.csv')\n",
    "train = np.load('train_data.npy')\n",
    "test = np.load('test_data.npy')"
   ]
  },
  {
   "cell_type": "code",
   "execution_count": 4,
   "metadata": {
    "ExecuteTime": {
     "end_time": "2019-09-24T22:42:06.558349Z",
     "start_time": "2019-09-24T22:42:06.553739Z"
    }
   },
   "outputs": [
    {
     "name": "stdout",
     "output_type": "stream",
     "text": [
      "[0.00110629 0.00221578 0.00401346 ... 0.02375466 0.01968718 0.01686463]\n",
      "[-4.16994095e-03 -3.57834622e-03 -2.97976262e-03 ... -9.80041368e-05\n",
      " -1.81882875e-03 -1.71524123e-03]\n",
      "0       0\n",
      "1       0\n",
      "2       0\n",
      "3       1\n",
      "4       0\n",
      "       ..\n",
      "3994    0\n",
      "3995    0\n",
      "3996    0\n",
      "3997    0\n",
      "3998    0\n",
      "Name: Label, Length: 3999, dtype: int64\n"
     ]
    }
   ],
   "source": [
    "print(train[1])\n",
    "print(test[1])\n",
    "\n",
    "Y = labels['Label']\n",
    "\n",
    "print(Y)"
   ]
  },
  {
   "cell_type": "code",
   "execution_count": 5,
   "metadata": {
    "ExecuteTime": {
     "end_time": "2019-09-24T20:55:08.675382Z",
     "start_time": "2019-09-24T20:55:08.657297Z"
    }
   },
   "outputs": [],
   "source": [
    "# sampling frequency\n",
    "fs = 44100\n",
    "#sd.play(train[6], fs)\n",
    "sd.play(test[34], fs)"
   ]
  },
  {
   "cell_type": "code",
   "execution_count": 9,
   "metadata": {
    "ExecuteTime": {
     "end_time": "2019-09-24T22:42:28.759625Z",
     "start_time": "2019-09-24T22:42:26.564249Z"
    }
   },
   "outputs": [
    {
     "name": "stdout",
     "output_type": "stream",
     "text": [
      "TRAIN SHAPE\n",
      "(3599, 44100, 1) (3599, 2)\n",
      "TEST SHAPE\n",
      "(400, 44100, 1) (400, 2)\n"
     ]
    }
   ],
   "source": [
    "# train: we see 3999 records of data with sampling frequency of 44100\n",
    "# test: we see 3997 records of data with sampling frequency of 44100\n",
    "\n",
    "drop_labels = labels.drop('Id',1)\n",
    "Y_train = to_categorical(drop_labels ,2)\n",
    "\n",
    "x_train, x_test, y_train, y_test = train_test_split(\n",
    "    train, Y_train, test_size=0.1, random_state=seed)\n",
    "\n",
    "x_train = x_train.reshape(-1,44100,1)\n",
    "x_test = x_test.reshape(-1,44100,1)\n",
    "# y_train = y_train.reshape(-1,-1,1)\n",
    "# y_test = y_test.reshape(-1,-1,1)\n",
    "print(\"TRAIN SHAPE\")\n",
    "print(x_train.shape, y_train.shape)\n",
    "print(\"TEST SHAPE\")\n",
    "print(x_test.shape, y_test.shape)"
   ]
  },
  {
   "cell_type": "code",
   "execution_count": 10,
   "metadata": {
    "ExecuteTime": {
     "end_time": "2019-09-24T22:42:31.400637Z",
     "start_time": "2019-09-24T22:42:31.394871Z"
    }
   },
   "outputs": [
    {
     "name": "stdout",
     "output_type": "stream",
     "text": [
      "# of samples / timestamps: 3599\n",
      "frequency    / features  : 44100\n",
      "# of outputs / outputs   : 3599\n"
     ]
    }
   ],
   "source": [
    "n_timesteps, n_features, n_outputs = x_train.shape[0], x_train.shape[1], y_train.shape[0]\n",
    "print('# of samples / timestamps:', n_timesteps)\n",
    "print('frequency    / features  :', n_features)\n",
    "print('# of outputs / outputs   :', n_outputs)"
   ]
  },
  {
   "cell_type": "code",
   "execution_count": 13,
   "metadata": {
    "ExecuteTime": {
     "end_time": "2019-09-24T22:43:05.944006Z",
     "start_time": "2019-09-24T22:43:05.931950Z"
    }
   },
   "outputs": [],
   "source": [
    "# create convolution neural network\n",
    "model = Sequential()\n",
    "model.add(Conv1D(64, 3, activation='tanh', batch_size=44100))\n",
    "model.add(MaxPooling1D(3))\n",
    "model.add(Conv1D(32, 3, activation='tanh'))\n",
    "model.add(MaxPooling1D(3))\n",
    "model.add(Dropout(0.5))\n",
    "model.add(Flatten())\n",
    "model.add(Dense(2, activation='sigmoid'))"
   ]
  },
  {
   "cell_type": "code",
   "execution_count": null,
   "metadata": {},
   "outputs": [],
   "source": [
    "model.summary()"
   ]
  },
  {
   "cell_type": "code",
   "execution_count": 14,
   "metadata": {
    "ExecuteTime": {
     "end_time": "2019-09-24T22:45:38.044343Z",
     "start_time": "2019-09-24T22:43:06.593227Z"
    }
   },
   "outputs": [
    {
     "name": "stdout",
     "output_type": "stream",
     "text": [
      "Train on 3599 samples, validate on 400 samples\n",
      "Epoch 1/20\n",
      "3599/3599 [==============================] - 8s 2ms/sample - loss: 0.3005 - acc: 0.8700 - val_loss: 0.2136 - val_acc: 0.8875\n",
      "Epoch 2/20\n",
      "3599/3599 [==============================] - 8s 2ms/sample - loss: 0.2021 - acc: 0.8805 - val_loss: 0.2135 - val_acc: 0.8900\n",
      "Epoch 3/20\n",
      "3599/3599 [==============================] - 8s 2ms/sample - loss: 0.1748 - acc: 0.8886 - val_loss: 0.2132 - val_acc: 0.9000\n",
      "Epoch 4/20\n",
      "3599/3599 [==============================] - 8s 2ms/sample - loss: 0.1630 - acc: 0.8994 - val_loss: 0.2227 - val_acc: 0.8925\n",
      "Epoch 5/20\n",
      "3599/3599 [==============================] - 8s 2ms/sample - loss: 0.2666 - acc: 0.8794 - val_loss: 0.6827 - val_acc: 0.8875\n",
      "Epoch 6/20\n",
      "3599/3599 [==============================] - 8s 2ms/sample - loss: 0.6818 - acc: 0.8769 - val_loss: 0.6827 - val_acc: 0.8875\n",
      "Epoch 7/20\n",
      "3599/3599 [==============================] - 7s 2ms/sample - loss: 0.6818 - acc: 0.8769 - val_loss: 0.6827 - val_acc: 0.8875\n",
      "Epoch 8/20\n",
      "3599/3599 [==============================] - 8s 2ms/sample - loss: 0.6818 - acc: 0.8769 - val_loss: 0.6827 - val_acc: 0.8875\n",
      "Epoch 9/20\n",
      "3599/3599 [==============================] - 7s 2ms/sample - loss: 0.6818 - acc: 0.8769 - val_loss: 0.6827 - val_acc: 0.8875\n",
      "Epoch 10/20\n",
      "3599/3599 [==============================] - 8s 2ms/sample - loss: 0.6818 - acc: 0.8769 - val_loss: 0.6827 - val_acc: 0.8875\n",
      "Epoch 11/20\n",
      "3599/3599 [==============================] - 8s 2ms/sample - loss: 0.6818 - acc: 0.8769 - val_loss: 0.6827 - val_acc: 0.8875\n",
      "Epoch 12/20\n",
      "3599/3599 [==============================] - 8s 2ms/sample - loss: 0.6818 - acc: 0.8769 - val_loss: 0.6827 - val_acc: 0.8875\n",
      "Epoch 13/20\n",
      "3599/3599 [==============================] - 8s 2ms/sample - loss: 0.6818 - acc: 0.8769 - val_loss: 0.6827 - val_acc: 0.8875\n",
      "Epoch 14/20\n",
      "3599/3599 [==============================] - 8s 2ms/sample - loss: 0.6818 - acc: 0.8769 - val_loss: 0.6827 - val_acc: 0.8875\n",
      "Epoch 15/20\n",
      "3599/3599 [==============================] - 8s 2ms/sample - loss: 0.6818 - acc: 0.8769 - val_loss: 0.6827 - val_acc: 0.8875\n",
      "Epoch 16/20\n",
      "3599/3599 [==============================] - 8s 2ms/sample - loss: 0.6818 - acc: 0.8769 - val_loss: 0.6827 - val_acc: 0.8875\n",
      "Epoch 17/20\n",
      "3599/3599 [==============================] - 7s 2ms/sample - loss: 0.6818 - acc: 0.8769 - val_loss: 0.6827 - val_acc: 0.8875\n",
      "Epoch 18/20\n",
      "3599/3599 [==============================] - 7s 2ms/sample - loss: 0.6818 - acc: 0.8769 - val_loss: 0.6827 - val_acc: 0.8875\n",
      "Epoch 19/20\n",
      "3599/3599 [==============================] - 7s 2ms/sample - loss: 0.6818 - acc: 0.8769 - val_loss: 0.6827 - val_acc: 0.8875\n",
      "Epoch 20/20\n",
      "3599/3599 [==============================] - 7s 2ms/sample - loss: 0.6818 - acc: 0.8769 - val_loss: 0.6827 - val_acc: 0.8875\n"
     ]
    },
    {
     "data": {
      "text/plain": [
       "<tensorflow.python.keras.callbacks.History at 0x7fbd7c122650>"
      ]
     },
     "execution_count": 14,
     "metadata": {},
     "output_type": "execute_result"
    }
   ],
   "source": [
    "epochs, batch_size = 20, 61\n",
    "model.compile(loss='categorical_crossentropy',\n",
    "              optimizer='adam', metrics=['accuracy'])\n",
    "# fit network\n",
    "model.fit(x_train, y_train, epochs=epochs, batch_size=batch_size,\n",
    "          validation_data=(x_test, y_test))"
   ]
  },
  {
   "cell_type": "code",
   "execution_count": 15,
   "metadata": {
    "ExecuteTime": {
     "end_time": "2019-09-24T22:46:18.290655Z",
     "start_time": "2019-09-24T22:46:17.791826Z"
    }
   },
   "outputs": [
    {
     "name": "stdout",
     "output_type": "stream",
     "text": [
      "400/400 [==============================] - 0s 1ms/sample - loss: 0.6931 - acc: 0.8875\n"
     ]
    }
   ],
   "source": [
    "score = model.evaluate(x_test, y_test, batch_size=128)"
   ]
  },
  {
   "cell_type": "code",
   "execution_count": 26,
   "metadata": {},
   "outputs": [],
   "source": [
    "final_predictions = model.predict_classes(test)"
   ]
  },
  {
   "cell_type": "code",
   "execution_count": 28,
   "metadata": {},
   "outputs": [],
   "source": [
    "sample_solution['Label'] = final_predictions"
   ]
  },
  {
   "cell_type": "code",
   "execution_count": 29,
   "metadata": {},
   "outputs": [],
   "source": [
    "sample_solution.to_csv('audio_binary_classification_predict.csv', index=False)"
   ]
  },
  {
   "cell_type": "code",
   "execution_count": null,
   "metadata": {},
   "outputs": [],
   "source": []
  }
 ],
 "metadata": {
  "hide_input": false,
  "kernelspec": {
   "display_name": "Python (machine-learning)",
   "language": "python",
   "name": "machine-learning"
  },
  "language_info": {
   "codemirror_mode": {
    "name": "ipython",
    "version": 3
   },
   "file_extension": ".py",
   "mimetype": "text/x-python",
   "name": "python",
   "nbconvert_exporter": "python",
   "pygments_lexer": "ipython3",
   "version": "3.7.4"
  },
  "varInspector": {
   "cols": {
    "lenName": 16,
    "lenType": 16,
    "lenVar": 40
   },
   "kernels_config": {
    "python": {
     "delete_cmd_postfix": "",
     "delete_cmd_prefix": "del ",
     "library": "var_list.py",
     "varRefreshCmd": "print(var_dic_list())"
    },
    "r": {
     "delete_cmd_postfix": ") ",
     "delete_cmd_prefix": "rm(",
     "library": "var_list.r",
     "varRefreshCmd": "cat(var_dic_list()) "
    }
   },
   "position": {
    "height": "674px",
    "left": "1127px",
    "right": "20px",
    "top": "199px",
    "width": "693px"
   },
   "types_to_exclude": [
    "module",
    "function",
    "builtin_function_or_method",
    "instance",
    "_Feature"
   ],
   "window_display": false
  }
 },
 "nbformat": 4,
 "nbformat_minor": 2
}
