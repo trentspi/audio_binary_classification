{
 "cells": [
  {
   "cell_type": "code",
   "execution_count": 1,
   "metadata": {
    "ExecuteTime": {
     "end_time": "2019-09-25T15:15:59.052541Z",
     "start_time": "2019-09-25T15:15:56.256824Z"
    }
   },
   "outputs": [],
   "source": [
    "from tensorflow.keras.optimizers import Adam, SGD, Adagrad, Adadelta, RMSprop\n",
    "from tensorflow.keras.utils import to_categorical\n",
    "from tensorflow.keras.layers import Conv2D, MaxPooling2D, GlobalAveragePooling2D, BatchNormalization\n",
    "from tensorflow.keras.layers import Dense, Dropout, Activation, Flatten, LeakyReLU\n",
    "from tensorflow.keras.models import Sequential\n",
    "from tensorflow.keras import backend as K\n",
    "from tensorflow.keras import Input, layers\n",
    "from tensorflow.keras.datasets import mnist\n",
    "from tensorflow.keras.preprocessing.image import ImageDataGenerator\n",
    "import os\n",
    "import os\n",
    "from os.path import isdir, join\n",
    "from pathlib import Path\n",
    "import pandas as pd\n",
    "\n",
    "# Math\n",
    "import random as rn\n",
    "import numpy as np\n",
    "from scipy.fftpack import fft\n",
    "from scipy import signal\n",
    "from scipy.io import wavfile\n",
    "\n",
    "import sounddevice as sd\n",
    "\n",
    "from memory_profiler import memory_usage\n",
    "import pandas as pd\n",
    "import tensorflow as tf\n",
    "from glob import glob\n",
    "\n",
    "import librosa\n",
    "import librosa.display\n",
    "import pylab\n",
    "\n",
    "from sklearn.model_selection import train_test_split\n",
    "from sklearn.model_selection import KFold\n",
    "from sklearn.metrics import accuracy_score, precision_score, recall_score, confusion_matrix, roc_curve, roc_auc_score\n",
    "from sklearn.model_selection import GridSearchCV\n",
    "from sklearn.preprocessing import LabelEncoder\n",
    "\n",
    "import IPython.display as ipd\n",
    "\n",
    "import matplotlib.pyplot as plt\n",
    "import matplotlib.image as mpimg\n",
    "from matplotlib import style\n",
    "import seaborn as sns\n",
    "import sklearn\n",
    "import soundfile as sf\n",
    "import gc\n",
    "\n",
    "%matplotlib inline\n",
    "sns.set(style='whitegrid', color_codes=True)\n",
    "\n",
    "import sys\n",
    "from PIL import Image\n",
    "sys.modules['Image'] = Image \n",
    "\n",
    "seed = 100\n",
    "np.random.seed(seed)\n",
    "rn.seed(seed)\n",
    "tf.set_random_seed(seed)"
   ]
  },
  {
   "cell_type": "code",
   "execution_count": 2,
   "metadata": {
    "ExecuteTime": {
     "end_time": "2019-09-25T15:16:06.737510Z",
     "start_time": "2019-09-25T15:16:06.719214Z"
    }
   },
   "outputs": [],
   "source": [
    "def create_spectrogram(filename,name):\n",
    "    plt.interactive(False)\n",
    "    clip, sample_rate = librosa.load(filename, sr=None)\n",
    "    fig = plt.figure(figsize=[0.72,0.72])\n",
    "    ax = fig.add_subplot(111)\n",
    "    ax.axes.get_xaxis().set_visible(False)\n",
    "    ax.axes.get_yaxis().set_visible(False)\n",
    "    ax.set_frame_on(False)\n",
    "    S = librosa.feature.melspectrogram(y=clip, sr=sample_rate)\n",
    "    librosa.display.specshow(librosa.power_to_db(S, ref=np.max))\n",
    "    filename  = './spectogram/train/' + name + '.png'\n",
    "    plt.savefig(filename, dpi=400, bbox_inches='tight',pad_inches=0)\n",
    "    plt.close()    \n",
    "    fig.clf()\n",
    "    plt.close(fig)\n",
    "    plt.close('all')\n",
    "    del filename,name,clip,sample_rate,fig,ax,S"
   ]
  },
  {
   "cell_type": "code",
   "execution_count": 3,
   "metadata": {
    "ExecuteTime": {
     "end_time": "2019-09-25T15:16:07.191070Z",
     "start_time": "2019-09-25T15:16:07.176570Z"
    }
   },
   "outputs": [],
   "source": [
    "def create_spectrogram_test(filename,name):\n",
    "    plt.interactive(False)\n",
    "    clip, sample_rate = librosa.load(filename, sr=None)\n",
    "    fig = plt.figure(figsize=[0.72,0.72])\n",
    "    ax = fig.add_subplot(111)\n",
    "    ax.axes.get_xaxis().set_visible(False)\n",
    "    ax.axes.get_yaxis().set_visible(False)\n",
    "    ax.set_frame_on(False)\n",
    "    S = librosa.feature.melspectrogram(y=clip, sr=sample_rate)\n",
    "    librosa.display.specshow(librosa.power_to_db(S, ref=np.max))\n",
    "    filename  = Path('./spectogram/test/' + name + '.png')\n",
    "    fig.savefig(filename, dpi=400, bbox_inches='tight',pad_inches=0)\n",
    "    plt.close()    \n",
    "    fig.clf()\n",
    "    plt.close(fig)\n",
    "    plt.close('all')\n",
    "    del filename,name,clip,sample_rate,fig,ax,S"
   ]
  },
  {
   "cell_type": "code",
   "execution_count": 4,
   "metadata": {
    "ExecuteTime": {
     "end_time": "2019-09-25T15:16:09.093740Z",
     "start_time": "2019-09-25T15:16:08.272412Z"
    }
   },
   "outputs": [],
   "source": [
    "labels = pd.read_csv('train_labels.csv')\n",
    "sample_solution = pd.read_csv('sample_submission.csv')\n",
    "train = np.load('train_data.npy')\n",
    "test = np.load('test_data.npy')"
   ]
  },
  {
   "cell_type": "code",
   "execution_count": 5,
   "metadata": {
    "ExecuteTime": {
     "end_time": "2019-09-25T15:16:10.114803Z",
     "start_time": "2019-09-25T15:16:10.100826Z"
    }
   },
   "outputs": [
    {
     "name": "stdout",
     "output_type": "stream",
     "text": [
      "(3999, 44100)\n",
      "(3997, 44100)\n",
      "(3999, 2)\n"
     ]
    }
   ],
   "source": [
    "print(train.shape)\n",
    "print(test.shape)\n",
    "print(labels.shape)"
   ]
  },
  {
   "cell_type": "code",
   "execution_count": 6,
   "metadata": {
    "ExecuteTime": {
     "end_time": "2019-09-25T15:16:12.702846Z",
     "start_time": "2019-09-25T15:16:12.699698Z"
    }
   },
   "outputs": [],
   "source": [
    "# sampling frequency\n",
    "fs = 44100\n",
    "#sd.play(train[6], fs)\n",
    "#sd.play(test[34], fs)"
   ]
  },
  {
   "cell_type": "code",
   "execution_count": 7,
   "metadata": {
    "ExecuteTime": {
     "end_time": "2019-09-25T15:16:13.106960Z",
     "start_time": "2019-09-25T15:16:13.096755Z"
    }
   },
   "outputs": [],
   "source": [
    "#  Generate out the .wav files for creating the spectograms\n",
    "\n",
    "# def create_wav_file(filename, data):\n",
    "#     sf.write(filename, data, 44100)\n",
    "\n",
    "# test_size=3997\n",
    "# train_size=3999\n",
    "\n",
    "# for i in range(0,test_size):\n",
    "#     create_wav_file('./audio/test/' + str(i) + '.wav', test[i])\n",
    "    \n",
    "# for i in range(0,train_size):\n",
    "#     create_wav_file('./audio/train/' + str(i) + '.wav', train[i])"
   ]
  },
  {
   "cell_type": "code",
   "execution_count": 20,
   "metadata": {
    "ExecuteTime": {
     "end_time": "2019-09-25T15:37:21.065123Z",
     "start_time": "2019-09-25T15:33:29.585440Z"
    }
   },
   "outputs": [
    {
     "name": "stdout",
     "output_type": "stream",
     "text": [
      "peak memory: 5324.68 MiB, increment: 0.16 MiB\n",
      "peak memory: 5341.57 MiB, increment: 0.00 MiB\n"
     ]
    },
    {
     "data": {
      "text/plain": [
       "47425"
      ]
     },
     "execution_count": 20,
     "metadata": {},
     "output_type": "execute_result"
    }
   ],
   "source": [
    "# Create spectograms for Train\n",
    "\n",
    "# %load_ext memory_profiler\n",
    "# Train_dir=np.array(glob('./audio/train/*.wav'))\n",
    "\n",
    "# %memit \n",
    "# i=0\n",
    "# for file in Train_dir[i:i+2000]:\n",
    "#     filename,name = file,file.split('/')[-1].split('.')[0]\n",
    "#     create_spectrogram(filename,name)\n",
    "# gc.collect()\n",
    "# %memit \n",
    "# i=2000\n",
    "# for file in Train_dir[i:]:\n",
    "#     filename,name = file,file.split('/')[-1].split('.')[0]\n",
    "#     create_spectrogram(filename,name)\n",
    "# gc.collect()"
   ]
  },
  {
   "cell_type": "code",
   "execution_count": 21,
   "metadata": {
    "ExecuteTime": {
     "end_time": "2019-09-25T15:41:11.769053Z",
     "start_time": "2019-09-25T15:37:29.766938Z"
    }
   },
   "outputs": [
    {
     "name": "stdout",
     "output_type": "stream",
     "text": [
      "peak memory: 5342.45 MiB, increment: 0.00 MiB\n",
      "peak memory: 5368.20 MiB, increment: 0.00 MiB\n"
     ]
    },
    {
     "data": {
      "text/plain": [
       "44031"
      ]
     },
     "execution_count": 21,
     "metadata": {},
     "output_type": "execute_result"
    }
   ],
   "source": [
    "# Create spectograms for Test\n",
    "\n",
    "# Test_dir=np.array(glob('./audio/test/*.wav'))\n",
    "# %memit \n",
    "# i=0\n",
    "# for file in Test_dir[i:i+2000]:\n",
    "#     filename,name = file,file.split('/')[-1].split('.')[0]\n",
    "#     create_spectrogram_test(filename,name)\n",
    "# gc.collect()\n",
    "# %memit \n",
    "# i=2000\n",
    "# for file in Test_dir[i:]:\n",
    "#     filename,name = file,file.split('/')[-1].split('.')[0]\n",
    "#     create_spectrogram_test(filename,name)\n",
    "# gc.collect()"
   ]
  },
  {
   "cell_type": "code",
   "execution_count": 56,
   "metadata": {
    "ExecuteTime": {
     "end_time": "2019-09-25T16:10:03.375365Z",
     "start_time": "2019-09-25T16:10:03.302040Z"
    }
   },
   "outputs": [
    {
     "name": "stdout",
     "output_type": "stream",
     "text": [
      "Found 3000 validated image filenames belonging to 2 classes.\n",
      "Found 999 validated image filenames belonging to 2 classes.\n"
     ]
    }
   ],
   "source": [
    "# train: we see 3999 records of data with sampling frequency of 44100\n",
    "# test: we see 3997 records of data with sampling frequency of 44100\n",
    "def append_ext(fn):\n",
    "    return fn+\".png\"\n",
    "\n",
    "train_labels = pd.read_csv('train_labels.csv', dtype=str)\n",
    "test_labels = pd.read_csv('sample_submission.csv', dtype=str)\n",
    "\n",
    "train_labels[\"Id\"]=train_labels[\"Id\"].apply(append_ext)\n",
    "test_labels[\"Id\"]=test_labels[\"Id\"].apply(append_ext)\n",
    "\n",
    "datagen=ImageDataGenerator(rescale=1./255.,validation_split=0.25)\n",
    "\n",
    "train_generator=datagen.flow_from_dataframe(\n",
    "    dataframe=train_labels,\n",
    "    directory=\"./spectogram/train/\",\n",
    "    x_col=\"Id\",\n",
    "    y_col=\"Label\",\n",
    "    subset=\"training\",\n",
    "    batch_size=43,\n",
    "    seed=seed,\n",
    "    shuffle=True,\n",
    "    class_mode=\"categorical\",\n",
    "    target_size=(64,64))\n",
    "\n",
    "valid_generator=datagen.flow_from_dataframe(\n",
    "    dataframe=train_labels,\n",
    "    directory=\"./spectogram/train/\",\n",
    "    x_col=\"Id\",\n",
    "    y_col=\"Label\",\n",
    "    subset=\"validation\",\n",
    "    batch_size=43,\n",
    "    seed=seed,\n",
    "    shuffle=True,\n",
    "    class_mode=\"categorical\",\n",
    "    target_size=(64,64))\n"
   ]
  },
  {
   "cell_type": "code",
   "execution_count": 79,
   "metadata": {
    "ExecuteTime": {
     "end_time": "2019-09-25T16:32:37.026209Z",
     "start_time": "2019-09-25T16:32:36.789733Z"
    }
   },
   "outputs": [
    {
     "name": "stdout",
     "output_type": "stream",
     "text": [
      "Model: \"sequential_13\"\n",
      "_________________________________________________________________\n",
      "Layer (type)                 Output Shape              Param #   \n",
      "=================================================================\n",
      "conv2d_70 (Conv2D)           (None, 64, 64, 32)        896       \n",
      "_________________________________________________________________\n",
      "activation_83 (Activation)   (None, 64, 64, 32)        0         \n",
      "_________________________________________________________________\n",
      "conv2d_71 (Conv2D)           (None, 62, 62, 64)        18496     \n",
      "_________________________________________________________________\n",
      "activation_84 (Activation)   (None, 62, 62, 64)        0         \n",
      "_________________________________________________________________\n",
      "max_pooling2d_35 (MaxPooling (None, 31, 31, 64)        0         \n",
      "_________________________________________________________________\n",
      "dropout_48 (Dropout)         (None, 31, 31, 64)        0         \n",
      "_________________________________________________________________\n",
      "conv2d_72 (Conv2D)           (None, 31, 31, 64)        36928     \n",
      "_________________________________________________________________\n",
      "activation_85 (Activation)   (None, 31, 31, 64)        0         \n",
      "_________________________________________________________________\n",
      "conv2d_73 (Conv2D)           (None, 29, 29, 64)        36928     \n",
      "_________________________________________________________________\n",
      "activation_86 (Activation)   (None, 29, 29, 64)        0         \n",
      "_________________________________________________________________\n",
      "max_pooling2d_36 (MaxPooling (None, 14, 14, 64)        0         \n",
      "_________________________________________________________________\n",
      "dropout_49 (Dropout)         (None, 14, 14, 64)        0         \n",
      "_________________________________________________________________\n",
      "conv2d_74 (Conv2D)           (None, 14, 14, 128)       73856     \n",
      "_________________________________________________________________\n",
      "activation_87 (Activation)   (None, 14, 14, 128)       0         \n",
      "_________________________________________________________________\n",
      "conv2d_75 (Conv2D)           (None, 12, 12, 128)       147584    \n",
      "_________________________________________________________________\n",
      "activation_88 (Activation)   (None, 12, 12, 128)       0         \n",
      "_________________________________________________________________\n",
      "max_pooling2d_37 (MaxPooling (None, 6, 6, 128)         0         \n",
      "_________________________________________________________________\n",
      "dropout_50 (Dropout)         (None, 6, 6, 128)         0         \n",
      "_________________________________________________________________\n",
      "flatten_13 (Flatten)         (None, 4608)              0         \n",
      "_________________________________________________________________\n",
      "dense_26 (Dense)             (None, 256)               1179904   \n",
      "_________________________________________________________________\n",
      "activation_89 (Activation)   (None, 256)               0         \n",
      "_________________________________________________________________\n",
      "dropout_51 (Dropout)         (None, 256)               0         \n",
      "_________________________________________________________________\n",
      "dense_27 (Dense)             (None, 2)                 514       \n",
      "=================================================================\n",
      "Total params: 1,495,106\n",
      "Trainable params: 1,495,106\n",
      "Non-trainable params: 0\n",
      "_________________________________________________________________\n"
     ]
    }
   ],
   "source": [
    "# create convolution neural network\n",
    "model = Sequential()\n",
    "model.add(Conv2D(32, (3, 3), padding='same',\n",
    "                 input_shape=(64,64,3)))\n",
    "model.add(Activation('relu'))\n",
    "model.add(Conv2D(64, (3, 3)))\n",
    "model.add(Activation('relu'))\n",
    "model.add(MaxPooling2D(pool_size=(2, 2)))\n",
    "model.add(Dropout(0.25))\n",
    "model.add(Conv2D(64, (3, 3), padding='same'))\n",
    "model.add(Activation('relu'))\n",
    "model.add(Conv2D(64, (3, 3)))\n",
    "model.add(Activation('relu'))\n",
    "model.add(MaxPooling2D(pool_size=(2, 2)))\n",
    "model.add(Dropout(0.5))\n",
    "model.add(Conv2D(128, (3, 3), padding='same'))\n",
    "model.add(Activation('relu'))\n",
    "model.add(Conv2D(128, (3, 3)))\n",
    "model.add(Activation('relu'))\n",
    "model.add(MaxPooling2D(pool_size=(2, 2)))\n",
    "model.add(Dropout(0.5))\n",
    "model.add(Flatten())\n",
    "model.add(Dense(256))\n",
    "model.add(Activation('relu'))\n",
    "model.add(Dropout(0.5))\n",
    "model.add(Dense(2, activation='softmax'))\n",
    "model.compile(Adam(lr=0.0005, decay=1e-6),loss=\"categorical_crossentropy\",metrics=[\"accuracy\"])\n",
    "model.summary()"
   ]
  },
  {
   "cell_type": "code",
   "execution_count": 80,
   "metadata": {
    "ExecuteTime": {
     "end_time": "2019-09-25T16:46:57.156443Z",
     "start_time": "2019-09-25T16:32:44.578912Z"
    }
   },
   "outputs": [
    {
     "name": "stdout",
     "output_type": "stream",
     "text": [
      "Epoch 1/150\n",
      "428/428 [==============================] - 7s 16ms/step - loss: 0.2516 - acc: 0.8927 - val_loss: 0.2395 - val_acc: 0.9175\n",
      "Epoch 2/150\n",
      "428/428 [==============================] - 6s 13ms/step - loss: 0.1767 - acc: 0.9318 - val_loss: 0.2088 - val_acc: 0.9165\n",
      "Epoch 3/150\n",
      "428/428 [==============================] - 6s 13ms/step - loss: 0.1647 - acc: 0.9362 - val_loss: 0.1850 - val_acc: 0.9326\n",
      "Epoch 4/150\n",
      "428/428 [==============================] - 6s 13ms/step - loss: 0.1344 - acc: 0.9469 - val_loss: 0.1230 - val_acc: 0.9567\n",
      "Epoch 5/150\n",
      "428/428 [==============================] - 6s 13ms/step - loss: 0.1209 - acc: 0.9546 - val_loss: 0.1130 - val_acc: 0.9557\n",
      "Epoch 6/150\n",
      "428/428 [==============================] - 6s 13ms/step - loss: 0.1133 - acc: 0.9572 - val_loss: 0.1176 - val_acc: 0.9517\n",
      "Epoch 7/150\n",
      "428/428 [==============================] - 6s 13ms/step - loss: 0.1087 - acc: 0.9586 - val_loss: 0.1124 - val_acc: 0.9618\n",
      "Epoch 8/150\n",
      "428/428 [==============================] - 6s 13ms/step - loss: 0.1045 - acc: 0.9596 - val_loss: 0.1168 - val_acc: 0.9628\n",
      "Epoch 9/150\n",
      "428/428 [==============================] - 6s 13ms/step - loss: 0.0958 - acc: 0.9663 - val_loss: 0.1059 - val_acc: 0.9678\n",
      "Epoch 10/150\n",
      "428/428 [==============================] - 6s 13ms/step - loss: 0.0920 - acc: 0.9663 - val_loss: 0.1237 - val_acc: 0.9658\n",
      "Epoch 11/150\n",
      "428/428 [==============================] - 6s 13ms/step - loss: 0.0843 - acc: 0.9676 - val_loss: 0.1057 - val_acc: 0.9678\n",
      "Epoch 12/150\n",
      "428/428 [==============================] - 6s 13ms/step - loss: 0.0754 - acc: 0.9723 - val_loss: 0.1142 - val_acc: 0.9618\n",
      "Epoch 13/150\n",
      "428/428 [==============================] - 6s 13ms/step - loss: 0.0734 - acc: 0.9746 - val_loss: 0.0851 - val_acc: 0.9708\n",
      "Epoch 14/150\n",
      "428/428 [==============================] - 6s 13ms/step - loss: 0.0711 - acc: 0.9759 - val_loss: 0.0936 - val_acc: 0.9708\n",
      "Epoch 15/150\n",
      "428/428 [==============================] - 6s 13ms/step - loss: 0.0658 - acc: 0.9736 - val_loss: 0.0872 - val_acc: 0.9718\n",
      "Epoch 16/150\n",
      "428/428 [==============================] - 6s 13ms/step - loss: 0.0733 - acc: 0.9719 - val_loss: 0.1567 - val_acc: 0.9537\n",
      "Epoch 17/150\n",
      "428/428 [==============================] - 6s 13ms/step - loss: 0.0564 - acc: 0.9810 - val_loss: 0.0880 - val_acc: 0.9708\n",
      "Epoch 18/150\n",
      "428/428 [==============================] - 6s 13ms/step - loss: 0.0525 - acc: 0.9816 - val_loss: 0.0909 - val_acc: 0.9708\n",
      "Epoch 19/150\n",
      "428/428 [==============================] - 6s 13ms/step - loss: 0.0491 - acc: 0.9819 - val_loss: 0.1075 - val_acc: 0.9648\n",
      "Epoch 20/150\n",
      "428/428 [==============================] - 6s 13ms/step - loss: 0.0430 - acc: 0.9836 - val_loss: 0.1007 - val_acc: 0.9688\n",
      "Epoch 21/150\n",
      "428/428 [==============================] - 6s 13ms/step - loss: 0.0435 - acc: 0.9836 - val_loss: 0.0904 - val_acc: 0.9718\n",
      "Epoch 22/150\n",
      "428/428 [==============================] - 6s 13ms/step - loss: 0.0517 - acc: 0.9813 - val_loss: 0.1010 - val_acc: 0.9718\n",
      "Epoch 23/150\n",
      "428/428 [==============================] - 6s 13ms/step - loss: 0.0325 - acc: 0.9906 - val_loss: 0.1366 - val_acc: 0.9678\n",
      "Epoch 24/150\n",
      "428/428 [==============================] - 6s 13ms/step - loss: 0.0377 - acc: 0.9850 - val_loss: 0.0957 - val_acc: 0.9718\n",
      "Epoch 25/150\n",
      "428/428 [==============================] - 6s 13ms/step - loss: 0.0387 - acc: 0.9876 - val_loss: 0.0873 - val_acc: 0.9748\n",
      "Epoch 26/150\n",
      "428/428 [==============================] - 6s 13ms/step - loss: 0.0269 - acc: 0.9906 - val_loss: 0.0980 - val_acc: 0.9728\n",
      "Epoch 27/150\n",
      "428/428 [==============================] - 6s 13ms/step - loss: 0.0230 - acc: 0.9913 - val_loss: 0.1057 - val_acc: 0.9728\n",
      "Epoch 28/150\n",
      "428/428 [==============================] - 6s 13ms/step - loss: 0.0238 - acc: 0.9910 - val_loss: 0.0882 - val_acc: 0.9789\n",
      "Epoch 29/150\n",
      "428/428 [==============================] - 6s 13ms/step - loss: 0.0437 - acc: 0.9853 - val_loss: 0.1206 - val_acc: 0.9718\n",
      "Epoch 30/150\n",
      "428/428 [==============================] - 6s 13ms/step - loss: 0.0315 - acc: 0.9906 - val_loss: 0.1405 - val_acc: 0.9728\n",
      "Epoch 31/150\n",
      "428/428 [==============================] - 6s 13ms/step - loss: 0.0337 - acc: 0.9880 - val_loss: 0.0700 - val_acc: 0.9759\n",
      "Epoch 32/150\n",
      "428/428 [==============================] - 6s 13ms/step - loss: 0.0236 - acc: 0.9893 - val_loss: 0.1667 - val_acc: 0.9618\n",
      "Epoch 33/150\n",
      "428/428 [==============================] - 6s 13ms/step - loss: 0.0193 - acc: 0.9923 - val_loss: 0.1157 - val_acc: 0.9769\n",
      "Epoch 34/150\n",
      "428/428 [==============================] - 6s 13ms/step - loss: 0.0220 - acc: 0.9923 - val_loss: 0.1319 - val_acc: 0.9678\n",
      "Epoch 35/150\n",
      "428/428 [==============================] - 6s 13ms/step - loss: 0.0377 - acc: 0.9900 - val_loss: 0.0840 - val_acc: 0.9779\n",
      "Epoch 36/150\n",
      "428/428 [==============================] - 6s 13ms/step - loss: 0.0228 - acc: 0.9923 - val_loss: 0.1248 - val_acc: 0.9648\n",
      "Epoch 37/150\n",
      "428/428 [==============================] - 6s 13ms/step - loss: 0.0285 - acc: 0.9913 - val_loss: 0.1796 - val_acc: 0.9718\n",
      "Epoch 38/150\n",
      "428/428 [==============================] - 6s 13ms/step - loss: 0.0171 - acc: 0.9937 - val_loss: 0.1438 - val_acc: 0.9718\n",
      "Epoch 39/150\n",
      "428/428 [==============================] - 6s 13ms/step - loss: 0.0224 - acc: 0.9920 - val_loss: 0.1085 - val_acc: 0.9779\n",
      "Epoch 40/150\n",
      "428/428 [==============================] - 6s 13ms/step - loss: 0.0152 - acc: 0.9936 - val_loss: 0.1678 - val_acc: 0.9748\n",
      "Epoch 41/150\n",
      "428/428 [==============================] - 6s 13ms/step - loss: 0.0188 - acc: 0.9916 - val_loss: 0.1267 - val_acc: 0.9759\n",
      "Epoch 42/150\n",
      "428/428 [==============================] - 6s 13ms/step - loss: 0.0324 - acc: 0.9906 - val_loss: 0.1126 - val_acc: 0.9759\n",
      "Epoch 43/150\n",
      "428/428 [==============================] - 6s 13ms/step - loss: 0.0194 - acc: 0.9933 - val_loss: 0.1443 - val_acc: 0.9738\n",
      "Epoch 44/150\n",
      "428/428 [==============================] - 6s 13ms/step - loss: 0.0218 - acc: 0.9923 - val_loss: 0.1170 - val_acc: 0.9759\n",
      "Epoch 45/150\n",
      "428/428 [==============================] - 6s 13ms/step - loss: 0.0147 - acc: 0.9943 - val_loss: 0.1297 - val_acc: 0.9769\n",
      "Epoch 46/150\n",
      "428/428 [==============================] - 6s 13ms/step - loss: 0.0150 - acc: 0.9947 - val_loss: 0.1030 - val_acc: 0.9809\n",
      "Epoch 47/150\n",
      "428/428 [==============================] - 6s 13ms/step - loss: 0.0256 - acc: 0.9926 - val_loss: 0.4278 - val_acc: 0.9547\n",
      "Epoch 48/150\n",
      "428/428 [==============================] - 6s 13ms/step - loss: 0.0334 - acc: 0.9906 - val_loss: 0.1216 - val_acc: 0.9708\n",
      "Epoch 49/150\n",
      "428/428 [==============================] - 6s 13ms/step - loss: 0.0174 - acc: 0.9937 - val_loss: 0.1721 - val_acc: 0.9708\n",
      "Epoch 50/150\n",
      "428/428 [==============================] - 6s 13ms/step - loss: 0.0378 - acc: 0.9923 - val_loss: 0.1113 - val_acc: 0.9769\n",
      "Epoch 51/150\n",
      "428/428 [==============================] - 6s 13ms/step - loss: 0.0143 - acc: 0.9947 - val_loss: 0.2094 - val_acc: 0.9728\n",
      "Epoch 52/150\n",
      "428/428 [==============================] - 6s 13ms/step - loss: 0.0087 - acc: 0.9967 - val_loss: 0.2606 - val_acc: 0.9658\n",
      "Epoch 53/150\n",
      "428/428 [==============================] - 6s 13ms/step - loss: 0.0183 - acc: 0.9926 - val_loss: 0.1810 - val_acc: 0.9759\n",
      "Epoch 54/150\n",
      "428/428 [==============================] - 6s 13ms/step - loss: 0.0184 - acc: 0.9906 - val_loss: 0.1362 - val_acc: 0.9748\n",
      "Epoch 55/150\n",
      "428/428 [==============================] - 6s 13ms/step - loss: 0.0097 - acc: 0.9970 - val_loss: 0.2321 - val_acc: 0.9728\n",
      "Epoch 56/150\n",
      "428/428 [==============================] - 6s 13ms/step - loss: 0.0235 - acc: 0.9916 - val_loss: 0.1260 - val_acc: 0.9738\n",
      "Epoch 57/150\n",
      "428/428 [==============================] - 6s 13ms/step - loss: 0.0207 - acc: 0.9930 - val_loss: 0.1480 - val_acc: 0.9779\n",
      "Epoch 58/150\n",
      "428/428 [==============================] - 6s 13ms/step - loss: 0.0069 - acc: 0.9973 - val_loss: 0.1800 - val_acc: 0.9779\n",
      "Epoch 59/150\n",
      "428/428 [==============================] - 6s 13ms/step - loss: 0.0182 - acc: 0.9947 - val_loss: 0.1377 - val_acc: 0.9769\n",
      "Epoch 60/150\n",
      "428/428 [==============================] - 6s 13ms/step - loss: 0.0162 - acc: 0.9967 - val_loss: 0.1103 - val_acc: 0.9769\n",
      "Epoch 61/150\n",
      "428/428 [==============================] - 6s 14ms/step - loss: 0.0103 - acc: 0.9947 - val_loss: 0.1780 - val_acc: 0.9779\n"
     ]
    },
    {
     "name": "stdout",
     "output_type": "stream",
     "text": [
      "Epoch 62/150\n",
      "428/428 [==============================] - 6s 13ms/step - loss: 0.0212 - acc: 0.9950 - val_loss: 0.1959 - val_acc: 0.9769\n",
      "Epoch 63/150\n",
      "428/428 [==============================] - 6s 13ms/step - loss: 0.0239 - acc: 0.9933 - val_loss: 0.1532 - val_acc: 0.9789\n",
      "Epoch 64/150\n",
      "428/428 [==============================] - 6s 13ms/step - loss: 0.0407 - acc: 0.9893 - val_loss: 0.1438 - val_acc: 0.9678\n",
      "Epoch 65/150\n",
      "428/428 [==============================] - 6s 14ms/step - loss: 0.0154 - acc: 0.9937 - val_loss: 0.1861 - val_acc: 0.9769\n",
      "Epoch 66/150\n",
      "428/428 [==============================] - 6s 14ms/step - loss: 0.0196 - acc: 0.9957 - val_loss: 0.1407 - val_acc: 0.9799\n",
      "Epoch 67/150\n",
      "428/428 [==============================] - 6s 13ms/step - loss: 0.0209 - acc: 0.9960 - val_loss: 0.1273 - val_acc: 0.9738\n",
      "Epoch 68/150\n",
      "428/428 [==============================] - 6s 13ms/step - loss: 0.0300 - acc: 0.9926 - val_loss: 0.1279 - val_acc: 0.9728\n",
      "Epoch 69/150\n",
      "428/428 [==============================] - 6s 13ms/step - loss: 0.0240 - acc: 0.9947 - val_loss: 0.0889 - val_acc: 0.9789\n",
      "Epoch 70/150\n",
      "428/428 [==============================] - 6s 13ms/step - loss: 0.0106 - acc: 0.9970 - val_loss: 0.1758 - val_acc: 0.9779\n",
      "Epoch 71/150\n",
      "428/428 [==============================] - 6s 13ms/step - loss: 0.0126 - acc: 0.9970 - val_loss: 0.1223 - val_acc: 0.9738\n",
      "Epoch 72/150\n",
      "428/428 [==============================] - 6s 13ms/step - loss: 0.0193 - acc: 0.9940 - val_loss: 0.1698 - val_acc: 0.9728\n",
      "Epoch 73/150\n",
      "428/428 [==============================] - 6s 13ms/step - loss: 0.0160 - acc: 0.9957 - val_loss: 0.1220 - val_acc: 0.9748\n",
      "Epoch 74/150\n",
      "428/428 [==============================] - 6s 13ms/step - loss: 0.0071 - acc: 0.9977 - val_loss: 0.1610 - val_acc: 0.9779\n",
      "Epoch 75/150\n",
      "428/428 [==============================] - 6s 13ms/step - loss: 0.0199 - acc: 0.9940 - val_loss: 0.1493 - val_acc: 0.9809\n",
      "Epoch 76/150\n",
      "428/428 [==============================] - 6s 13ms/step - loss: 0.0340 - acc: 0.9916 - val_loss: 0.1222 - val_acc: 0.9809\n",
      "Epoch 77/150\n",
      "428/428 [==============================] - 6s 13ms/step - loss: 0.0135 - acc: 0.9960 - val_loss: 0.1779 - val_acc: 0.9759\n",
      "Epoch 78/150\n",
      "428/428 [==============================] - 6s 13ms/step - loss: 0.0114 - acc: 0.9957 - val_loss: 0.2368 - val_acc: 0.9668\n",
      "Epoch 79/150\n",
      "428/428 [==============================] - 6s 13ms/step - loss: 0.0085 - acc: 0.9970 - val_loss: 0.1843 - val_acc: 0.9769\n",
      "Epoch 80/150\n",
      "428/428 [==============================] - 6s 13ms/step - loss: 0.0205 - acc: 0.9947 - val_loss: 0.1246 - val_acc: 0.9738\n",
      "Epoch 81/150\n",
      "428/428 [==============================] - 6s 14ms/step - loss: 0.0070 - acc: 0.9973 - val_loss: 0.1845 - val_acc: 0.9799\n",
      "Epoch 82/150\n",
      "428/428 [==============================] - 6s 13ms/step - loss: 0.0050 - acc: 0.9977 - val_loss: 0.2144 - val_acc: 0.9759\n",
      "Epoch 83/150\n",
      "428/428 [==============================] - 6s 13ms/step - loss: 0.0343 - acc: 0.9930 - val_loss: 0.1893 - val_acc: 0.9799\n",
      "Epoch 84/150\n",
      "428/428 [==============================] - 6s 13ms/step - loss: 0.0086 - acc: 0.9957 - val_loss: 0.1898 - val_acc: 0.9718\n",
      "Epoch 85/150\n",
      "428/428 [==============================] - 6s 13ms/step - loss: 0.0390 - acc: 0.9910 - val_loss: 0.1450 - val_acc: 0.9789\n",
      "Epoch 86/150\n",
      "428/428 [==============================] - 6s 13ms/step - loss: 0.0047 - acc: 0.9983 - val_loss: 0.1251 - val_acc: 0.9789\n",
      "Epoch 87/150\n",
      "428/428 [==============================] - 6s 13ms/step - loss: 0.0165 - acc: 0.9943 - val_loss: 0.1623 - val_acc: 0.9728\n",
      "Epoch 88/150\n",
      "428/428 [==============================] - 6s 13ms/step - loss: 0.0322 - acc: 0.9933 - val_loss: 0.2263 - val_acc: 0.9718\n",
      "Epoch 89/150\n",
      "428/428 [==============================] - 6s 13ms/step - loss: 0.0177 - acc: 0.9950 - val_loss: 0.2276 - val_acc: 0.9759\n",
      "Epoch 90/150\n",
      "428/428 [==============================] - 6s 13ms/step - loss: 0.0064 - acc: 0.9973 - val_loss: 0.2117 - val_acc: 0.9738\n",
      "Epoch 91/150\n",
      "428/428 [==============================] - 6s 13ms/step - loss: 0.0136 - acc: 0.9967 - val_loss: 0.2175 - val_acc: 0.9769\n",
      "Epoch 92/150\n",
      "428/428 [==============================] - 6s 13ms/step - loss: 0.0063 - acc: 0.9987 - val_loss: 0.3167 - val_acc: 0.9698\n",
      "Epoch 93/150\n",
      "428/428 [==============================] - 6s 13ms/step - loss: 0.0043 - acc: 0.9980 - val_loss: 0.2636 - val_acc: 0.9759\n",
      "Epoch 94/150\n",
      "428/428 [==============================] - 6s 13ms/step - loss: 0.0029 - acc: 0.9990 - val_loss: 0.3650 - val_acc: 0.9769\n",
      "Epoch 95/150\n",
      "428/428 [==============================] - 6s 13ms/step - loss: 0.0246 - acc: 0.9933 - val_loss: 0.2497 - val_acc: 0.9769\n",
      "Epoch 96/150\n",
      "428/428 [==============================] - 6s 13ms/step - loss: 0.0243 - acc: 0.9937 - val_loss: 0.1677 - val_acc: 0.9809\n",
      "Epoch 97/150\n",
      "428/428 [==============================] - 6s 13ms/step - loss: 0.0181 - acc: 0.9940 - val_loss: 0.1373 - val_acc: 0.9779\n",
      "Epoch 98/150\n",
      "428/428 [==============================] - 6s 13ms/step - loss: 0.0108 - acc: 0.9963 - val_loss: 0.1576 - val_acc: 0.9769\n",
      "Epoch 99/150\n",
      "428/428 [==============================] - 6s 13ms/step - loss: 0.0064 - acc: 0.9980 - val_loss: 0.2901 - val_acc: 0.9748\n",
      "Epoch 100/150\n",
      "428/428 [==============================] - 6s 13ms/step - loss: 0.0041 - acc: 0.9990 - val_loss: 0.2383 - val_acc: 0.9738\n",
      "Epoch 101/150\n",
      "428/428 [==============================] - 6s 13ms/step - loss: 0.0046 - acc: 0.9983 - val_loss: 0.2939 - val_acc: 0.9779\n",
      "Epoch 102/150\n",
      "428/428 [==============================] - 6s 13ms/step - loss: 0.0425 - acc: 0.9923 - val_loss: 0.2135 - val_acc: 0.9789\n",
      "Epoch 103/150\n",
      "428/428 [==============================] - 6s 13ms/step - loss: 0.0292 - acc: 0.9943 - val_loss: 0.1500 - val_acc: 0.9779\n",
      "Epoch 104/150\n",
      "428/428 [==============================] - 6s 13ms/step - loss: 0.0054 - acc: 0.9977 - val_loss: 0.1900 - val_acc: 0.9779\n",
      "Epoch 105/150\n",
      "428/428 [==============================] - 6s 13ms/step - loss: 0.0071 - acc: 0.9970 - val_loss: 0.2349 - val_acc: 0.9748\n",
      "Epoch 106/150\n",
      "428/428 [==============================] - 6s 13ms/step - loss: 0.0168 - acc: 0.9963 - val_loss: 0.2002 - val_acc: 0.9779\n",
      "Epoch 107/150\n",
      "428/428 [==============================] - 6s 13ms/step - loss: 0.0344 - acc: 0.9917 - val_loss: 0.2842 - val_acc: 0.9718\n",
      "Epoch 108/150\n",
      "428/428 [==============================] - 6s 13ms/step - loss: 0.0055 - acc: 0.9980 - val_loss: 0.2946 - val_acc: 0.9829\n",
      "Epoch 109/150\n",
      "428/428 [==============================] - 6s 13ms/step - loss: 0.0018 - acc: 0.9997 - val_loss: 0.2999 - val_acc: 0.9759\n",
      "Epoch 110/150\n",
      "428/428 [==============================] - 6s 13ms/step - loss: 0.0120 - acc: 0.9963 - val_loss: 0.1996 - val_acc: 0.9759\n",
      "Epoch 111/150\n",
      "428/428 [==============================] - 6s 13ms/step - loss: 0.0021 - acc: 0.9993 - val_loss: 0.2860 - val_acc: 0.9799\n",
      "Epoch 112/150\n",
      "428/428 [==============================] - 6s 13ms/step - loss: 0.0099 - acc: 0.9980 - val_loss: 0.1789 - val_acc: 0.9728\n",
      "Epoch 113/150\n",
      "428/428 [==============================] - 6s 13ms/step - loss: 0.0412 - acc: 0.9890 - val_loss: 0.2727 - val_acc: 0.9728\n",
      "Epoch 114/150\n",
      "428/428 [==============================] - 6s 13ms/step - loss: 0.0157 - acc: 0.9943 - val_loss: 0.2243 - val_acc: 0.9789\n",
      "Epoch 115/150\n",
      "428/428 [==============================] - 6s 13ms/step - loss: 0.0109 - acc: 0.9960 - val_loss: 0.1837 - val_acc: 0.9789\n",
      "Epoch 116/150\n",
      "428/428 [==============================] - 6s 13ms/step - loss: 0.0036 - acc: 0.9987 - val_loss: 0.1866 - val_acc: 0.9819\n",
      "Epoch 117/150\n",
      "428/428 [==============================] - 6s 13ms/step - loss: 0.0028 - acc: 0.9993 - val_loss: 0.2625 - val_acc: 0.9799\n",
      "Epoch 118/150\n",
      "428/428 [==============================] - 6s 13ms/step - loss: 0.0365 - acc: 0.9950 - val_loss: 0.2584 - val_acc: 0.9769\n",
      "Epoch 119/150\n",
      "428/428 [==============================] - 6s 13ms/step - loss: 0.0225 - acc: 0.9957 - val_loss: 0.3015 - val_acc: 0.9708\n",
      "Epoch 120/150\n",
      "428/428 [==============================] - 6s 13ms/step - loss: 0.0286 - acc: 0.9963 - val_loss: 0.1957 - val_acc: 0.9769\n",
      "Epoch 121/150\n",
      "428/428 [==============================] - 6s 13ms/step - loss: 0.0057 - acc: 0.9977 - val_loss: 0.2047 - val_acc: 0.9759\n",
      "Epoch 122/150\n",
      "428/428 [==============================] - 6s 13ms/step - loss: 0.0125 - acc: 0.9970 - val_loss: 0.1949 - val_acc: 0.9748\n",
      "Epoch 123/150\n",
      "428/428 [==============================] - 5s 13ms/step - loss: 0.0080 - acc: 0.9970 - val_loss: 0.1800 - val_acc: 0.9809\n",
      "Epoch 124/150\n",
      "428/428 [==============================] - 5s 13ms/step - loss: 0.0085 - acc: 0.9970 - val_loss: 0.2311 - val_acc: 0.9779\n",
      "Epoch 125/150\n",
      "428/428 [==============================] - 6s 13ms/step - loss: 0.0038 - acc: 0.9983 - val_loss: 0.2570 - val_acc: 0.9748\n",
      "Epoch 126/150\n",
      "428/428 [==============================] - 6s 13ms/step - loss: 0.0084 - acc: 0.9977 - val_loss: 0.2781 - val_acc: 0.9759\n",
      "Epoch 127/150\n",
      "428/428 [==============================] - 6s 13ms/step - loss: 0.0496 - acc: 0.9940 - val_loss: 0.1899 - val_acc: 0.9789\n",
      "Epoch 128/150\n",
      "428/428 [==============================] - 6s 13ms/step - loss: 0.0071 - acc: 0.9980 - val_loss: 0.2167 - val_acc: 0.9809\n",
      "Epoch 129/150\n",
      "428/428 [==============================] - 6s 13ms/step - loss: 0.0043 - acc: 0.9987 - val_loss: 0.2079 - val_acc: 0.9819\n",
      "Epoch 130/150\n",
      "428/428 [==============================] - 6s 13ms/step - loss: 0.0017 - acc: 0.9993 - val_loss: 0.2168 - val_acc: 0.9809\n",
      "Epoch 131/150\n",
      "428/428 [==============================] - 6s 13ms/step - loss: 0.0126 - acc: 0.9960 - val_loss: 0.2580 - val_acc: 0.9718\n",
      "Epoch 132/150\n",
      "428/428 [==============================] - 6s 13ms/step - loss: 0.0129 - acc: 0.9963 - val_loss: 0.1739 - val_acc: 0.9769\n",
      "Epoch 133/150\n",
      "428/428 [==============================] - 6s 13ms/step - loss: 0.0289 - acc: 0.9947 - val_loss: 0.2161 - val_acc: 0.9779\n",
      "Epoch 134/150\n",
      "428/428 [==============================] - 6s 13ms/step - loss: 0.0231 - acc: 0.9943 - val_loss: 0.1435 - val_acc: 0.9769\n",
      "Epoch 135/150\n",
      "428/428 [==============================] - 6s 13ms/step - loss: 0.0048 - acc: 0.9977 - val_loss: 0.2007 - val_acc: 0.9799\n",
      "Epoch 136/150\n",
      "428/428 [==============================] - 6s 13ms/step - loss: 0.0341 - acc: 0.9953 - val_loss: 0.1475 - val_acc: 0.9779\n",
      "Epoch 137/150\n",
      "428/428 [==============================] - 6s 13ms/step - loss: 0.0041 - acc: 0.9987 - val_loss: 0.2302 - val_acc: 0.9789\n",
      "Epoch 138/150\n",
      "428/428 [==============================] - 6s 13ms/step - loss: 0.0246 - acc: 0.9940 - val_loss: 0.2652 - val_acc: 0.9779\n",
      "Epoch 139/150\n",
      "428/428 [==============================] - 6s 13ms/step - loss: 0.0121 - acc: 0.9970 - val_loss: 0.2647 - val_acc: 0.9769\n",
      "Epoch 140/150\n",
      "428/428 [==============================] - 5s 13ms/step - loss: 0.0104 - acc: 0.9977 - val_loss: 0.2476 - val_acc: 0.9779\n",
      "Epoch 141/150\n",
      "428/428 [==============================] - 6s 13ms/step - loss: 0.0299 - acc: 0.9937 - val_loss: 0.2196 - val_acc: 0.9738\n",
      "Epoch 142/150\n",
      "428/428 [==============================] - 6s 13ms/step - loss: 0.0195 - acc: 0.9943 - val_loss: 0.1863 - val_acc: 0.9789\n",
      "Epoch 143/150\n",
      "428/428 [==============================] - 6s 13ms/step - loss: 0.0039 - acc: 0.9987 - val_loss: 0.2336 - val_acc: 0.9748\n",
      "Epoch 144/150\n",
      "428/428 [==============================] - 6s 14ms/step - loss: 0.0125 - acc: 0.9963 - val_loss: 0.2632 - val_acc: 0.9718\n",
      "Epoch 145/150\n",
      "428/428 [==============================] - 6s 13ms/step - loss: 0.0051 - acc: 0.9987 - val_loss: 0.2450 - val_acc: 0.9779\n",
      "Epoch 146/150\n",
      "428/428 [==============================] - 6s 13ms/step - loss: 0.0057 - acc: 0.9980 - val_loss: 0.2258 - val_acc: 0.9819\n",
      "Epoch 147/150\n",
      "428/428 [==============================] - 6s 13ms/step - loss: 0.0156 - acc: 0.9970 - val_loss: 0.2513 - val_acc: 0.9779\n",
      "Epoch 148/150\n",
      "428/428 [==============================] - 6s 13ms/step - loss: 0.0116 - acc: 0.9967 - val_loss: 0.1397 - val_acc: 0.9799\n",
      "Epoch 149/150\n",
      "428/428 [==============================] - 6s 13ms/step - loss: 0.0025 - acc: 0.9990 - val_loss: 0.2399 - val_acc: 0.9759\n",
      "Epoch 150/150\n",
      "428/428 [==============================] - 6s 13ms/step - loss: 0.0016 - acc: 0.9990 - val_loss: 0.4143 - val_acc: 0.9769\n"
     ]
    },
    {
     "data": {
      "text/plain": [
       "[0.4142943337133561, 0.9768612]"
      ]
     },
     "execution_count": 80,
     "metadata": {},
     "output_type": "execute_result"
    }
   ],
   "source": [
    "#Fitting keras model, no test gen for now\n",
    "STEP_SIZE_TRAIN=train_generator.n//train_generator.batch_size\n",
    "STEP_SIZE_VALID=valid_generator.n//valid_generator.batch_size\n",
    "#STEP_SIZE_TEST=test_generator.n//test_generator.batch_size\n",
    "model.fit_generator(generator=train_generator,\n",
    "                    steps_per_epoch=STEP_SIZE_TRAIN,\n",
    "                    validation_data=valid_generator,\n",
    "                    validation_steps=STEP_SIZE_VALID,\n",
    "                    epochs=150\n",
    ")\n",
    "model.evaluate_generator(generator=valid_generator, steps=STEP_SIZE_VALID\n",
    ")"
   ]
  },
  {
   "cell_type": "code",
   "execution_count": 90,
   "metadata": {
    "ExecuteTime": {
     "end_time": "2019-09-25T16:52:44.095351Z",
     "start_time": "2019-09-25T16:52:42.724642Z"
    }
   },
   "outputs": [
    {
     "name": "stdout",
     "output_type": "stream",
     "text": [
      "[0.4142943337133561, 0.9768612]\n"
     ]
    }
   ],
   "source": [
    "score = model.evaluate_generator(valid_generator, STEP_SIZE_VALID)\n",
    "print(score)"
   ]
  },
  {
   "cell_type": "code",
   "execution_count": 96,
   "metadata": {
    "ExecuteTime": {
     "end_time": "2019-09-25T16:55:50.965762Z",
     "start_time": "2019-09-25T16:55:50.936405Z"
    }
   },
   "outputs": [
    {
     "name": "stdout",
     "output_type": "stream",
     "text": [
      "Found 3997 validated image filenames.\n"
     ]
    }
   ],
   "source": [
    "test_datagen=ImageDataGenerator(rescale=1./255.)\n",
    "test_generator=test_datagen.flow_from_dataframe(\n",
    "    dataframe=test_labels,\n",
    "    directory=\"./spectogram/test/\",\n",
    "    x_col=\"Id\",\n",
    "    y_col=None,\n",
    "    batch_size=7,\n",
    "    seed=seed,\n",
    "    shuffle=False,\n",
    "    class_mode=None,\n",
    "    target_size=(64,64))\n",
    "\n",
    "STEP_SIZE_TEST=test_generator.n//test_generator.batch_size"
   ]
  },
  {
   "cell_type": "code",
   "execution_count": 97,
   "metadata": {
    "ExecuteTime": {
     "end_time": "2019-09-25T16:55:57.145717Z",
     "start_time": "2019-09-25T16:55:51.975434Z"
    }
   },
   "outputs": [
    {
     "name": "stdout",
     "output_type": "stream",
     "text": [
      "571/571 [==============================] - 5s 9ms/step\n",
      "{'0': 0, '1': 1}\n",
      "3997\n",
      "3997\n"
     ]
    }
   ],
   "source": [
    "test_generator.reset()\n",
    "pred=model.predict_generator(test_generator,\n",
    "steps=STEP_SIZE_TEST,\n",
    "verbose=1)\n",
    "predicted_class_indices=np.argmax(pred,axis=1)\n",
    "\n",
    "#Fetch labels from train gen for testing\n",
    "print(train_generator.class_indices)\n",
    "print(len(predicted_class_indices))\n",
    "labels = (train_generator.class_indices)\n",
    "labels = dict((v,k) for k,v in labels.items())\n",
    "predictions = [labels[k] for k in predicted_class_indices]\n",
    "print(len(predictions))"
   ]
  },
  {
   "cell_type": "code",
   "execution_count": 98,
   "metadata": {
    "ExecuteTime": {
     "end_time": "2019-09-25T16:55:59.067819Z",
     "start_time": "2019-09-25T16:55:59.056307Z"
    }
   },
   "outputs": [
    {
     "name": "stdout",
     "output_type": "stream",
     "text": [
      "['0', '0', '0', '0', '0', '0', '0', '0', '0', '0', '1']\n"
     ]
    }
   ],
   "source": [
    "print(predictions[0:11])"
   ]
  },
  {
   "cell_type": "code",
   "execution_count": 76,
   "metadata": {
    "ExecuteTime": {
     "end_time": "2019-09-25T16:30:16.058818Z",
     "start_time": "2019-09-25T16:30:16.032182Z"
    }
   },
   "outputs": [
    {
     "ename": "NameError",
     "evalue": "name 'mf' is not defined",
     "output_type": "error",
     "traceback": [
      "\u001b[0;31m---------------------------------------------------------------------------\u001b[0m",
      "\u001b[0;31mNameError\u001b[0m                                 Traceback (most recent call last)",
      "\u001b[0;32m<ipython-input-76-30f8686a2b8f>\u001b[0m in \u001b[0;36m<module>\u001b[0;34m\u001b[0m\n\u001b[0;32m----> 1\u001b[0;31m \u001b[0mplt\u001b[0m\u001b[0;34m.\u001b[0m\u001b[0mplot\u001b[0m\u001b[0;34m(\u001b[0m\u001b[0mmf\u001b[0m\u001b[0;34m.\u001b[0m\u001b[0mhistory\u001b[0m\u001b[0;34m[\u001b[0m\u001b[0;34m'loss'\u001b[0m\u001b[0;34m]\u001b[0m\u001b[0;34m)\u001b[0m\u001b[0;34m\u001b[0m\u001b[0;34m\u001b[0m\u001b[0m\n\u001b[0m\u001b[1;32m      2\u001b[0m \u001b[0mplt\u001b[0m\u001b[0;34m.\u001b[0m\u001b[0mplot\u001b[0m\u001b[0;34m(\u001b[0m\u001b[0mmf\u001b[0m\u001b[0;34m.\u001b[0m\u001b[0mhistory\u001b[0m\u001b[0;34m[\u001b[0m\u001b[0;34m'val_loss'\u001b[0m\u001b[0;34m]\u001b[0m\u001b[0;34m)\u001b[0m\u001b[0;34m\u001b[0m\u001b[0;34m\u001b[0m\u001b[0m\n\u001b[1;32m      3\u001b[0m \u001b[0mplt\u001b[0m\u001b[0;34m.\u001b[0m\u001b[0mtitle\u001b[0m\u001b[0;34m(\u001b[0m\u001b[0;34m'Model Loss'\u001b[0m\u001b[0;34m)\u001b[0m\u001b[0;34m\u001b[0m\u001b[0;34m\u001b[0m\u001b[0m\n\u001b[1;32m      4\u001b[0m \u001b[0mplt\u001b[0m\u001b[0;34m.\u001b[0m\u001b[0mxlabel\u001b[0m\u001b[0;34m(\u001b[0m\u001b[0;34m'Epochs'\u001b[0m\u001b[0;34m)\u001b[0m\u001b[0;34m\u001b[0m\u001b[0;34m\u001b[0m\u001b[0m\n\u001b[1;32m      5\u001b[0m \u001b[0mplt\u001b[0m\u001b[0;34m.\u001b[0m\u001b[0mylabel\u001b[0m\u001b[0;34m(\u001b[0m\u001b[0;34m'Loss'\u001b[0m\u001b[0;34m)\u001b[0m\u001b[0;34m\u001b[0m\u001b[0;34m\u001b[0m\u001b[0m\n",
      "\u001b[0;31mNameError\u001b[0m: name 'mf' is not defined"
     ]
    }
   ],
   "source": [
    "plt.plot(mf.history['loss'])\n",
    "plt.plot(mf.history['val_loss'])\n",
    "plt.title('Model Loss')\n",
    "plt.xlabel('Epochs')\n",
    "plt.ylabel('Loss')\n",
    "\n",
    "plt.legend(['train', 'validation'])\n",
    "plt.show()"
   ]
  },
  {
   "cell_type": "code",
   "execution_count": 164,
   "metadata": {
    "ExecuteTime": {
     "end_time": "2019-09-24T23:20:43.721730Z",
     "start_time": "2019-09-24T23:20:43.530427Z"
    }
   },
   "outputs": [
    {
     "data": {
      "image/png": "[encoded data removed]",
      "text/plain": [
       "<Figure size 432x288 with 1 Axes>"
      ]
     },
     "metadata": {
      "needs_background": "light"
     },
     "output_type": "display_data"
    }
   ],
   "source": [
    "plt.plot(mf.history['acc'])\n",
    "plt.plot(mf.history['val_acc'])\n",
    "plt.title('Model Acc')\n",
    "plt.xlabel('Epochs')\n",
    "plt.ylabel('Accuracy')\n",
    "\n",
    "plt.legend(['train', 'validation'])\n",
    "plt.show()"
   ]
  },
  {
   "cell_type": "code",
   "execution_count": 105,
   "metadata": {
    "ExecuteTime": {
     "end_time": "2019-09-25T16:57:28.492954Z",
     "start_time": "2019-09-25T16:57:28.198375Z"
    }
   },
   "outputs": [],
   "source": []
  },
  {
   "cell_type": "code",
   "execution_count": 106,
   "metadata": {
    "ExecuteTime": {
     "end_time": "2019-09-25T16:57:28.922914Z",
     "start_time": "2019-09-25T16:57:28.913960Z"
    }
   },
   "outputs": [
    {
     "name": "stdout",
     "output_type": "stream",
     "text": [
      "0\n",
      "3997\n"
     ]
    }
   ],
   "source": []
  },
  {
   "cell_type": "code",
   "execution_count": 107,
   "metadata": {
    "ExecuteTime": {
     "end_time": "2019-09-25T16:57:36.595087Z",
     "start_time": "2019-09-25T16:57:36.588949Z"
    }
   },
   "outputs": [
    {
     "name": "stdout",
     "output_type": "stream",
     "text": [
      "3997\n",
      "3997\n"
     ]
    }
   ],
   "source": [
    "print(len(predictions))\n",
    "print(sample_solution.shape[0])\n",
    "sample_solution['Label'] = predictions"
   ]
  },
  {
   "cell_type": "code",
   "execution_count": 108,
   "metadata": {
    "ExecuteTime": {
     "end_time": "2019-09-25T16:57:42.010915Z",
     "start_time": "2019-09-25T16:57:41.997585Z"
    }
   },
   "outputs": [],
   "source": [
    "sample_solution.to_csv('predictions/audio_binary_classification_predict-8.csv', index=False)"
   ]
  },
  {
   "cell_type": "code",
   "execution_count": null,
   "metadata": {},
   "outputs": [],
   "source": []
  }
 ],
 "metadata": {
  "hide_input": false,
  "kernelspec": {
   "display_name": "Python (machine-learning)",
   "language": "python",
   "name": "machine-learning"
  },
  "language_info": {
   "codemirror_mode": {
    "name": "ipython",
    "version": 3
   },
   "file_extension": ".py",
   "mimetype": "text/x-python",
   "name": "python",
   "nbconvert_exporter": "python",
   "pygments_lexer": "ipython3",
   "version": "3.7.4"
  },
  "varInspector": {
   "cols": {
    "lenName": 16,
    "lenType": 16,
    "lenVar": 40
   },
   "kernels_config": {
    "python": {
     "delete_cmd_postfix": "",
     "delete_cmd_prefix": "del ",
     "library": "var_list.py",
     "varRefreshCmd": "print(var_dic_list())"
    },
    "r": {
     "delete_cmd_postfix": ") ",
     "delete_cmd_prefix": "rm(",
     "library": "var_list.r",
     "varRefreshCmd": "cat(var_dic_list()) "
    }
   },
   "position": {
    "height": "674px",
    "left": "1127px",
    "right": "20px",
    "top": "199px",
    "width": "693px"
   },
   "types_to_exclude": [
    "module",
    "function",
    "builtin_function_or_method",
    "instance",
    "_Feature"
   ],
   "window_display": false
  }
 },
 "nbformat": 4,
 "nbformat_minor": 2
}
