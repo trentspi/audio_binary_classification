{
 "cells": [
  {
   "cell_type": "code",
   "execution_count": 1,
   "metadata": {
    "ExecuteTime": {
     "end_time": "2019-09-24T22:52:07.973252Z",
     "start_time": "2019-09-24T22:52:04.490545Z"
    }
   },
   "outputs": [],
   "source": [
    "from tensorflow.keras.optimizers import Adam, SGD, Adagrad, Adadelta, RMSprop\n",
    "from tensorflow.keras.utils import to_categorical\n",
    "from tensorflow.keras.layers import Conv2D, MaxPooling2D, GlobalAveragePooling2D, BatchNormalization\n",
    "from tensorflow.keras.layers import Dense, Dropout, Activation, Flatten\n",
    "from tensorflow.keras.models import Sequential\n",
    "from tensorflow.keras import backend as K\n",
    "from tensorflow.keras import Input, layers\n",
    "from tensorflow.keras.datasets import mnist\n",
    "from tensorflow.keras.preprocessing.image import ImageDataGenerator\n",
    "import os\n",
    "import os\n",
    "from os.path import isdir, join\n",
    "from pathlib import Path\n",
    "import pandas as pd\n",
    "\n",
    "# Math\n",
    "import random as rn\n",
    "import numpy as np\n",
    "from scipy.fftpack import fft\n",
    "from scipy import signal\n",
    "from scipy.io import wavfile\n",
    "\n",
    "import sounddevice as sd\n",
    "\n",
    "import pandas as pd\n",
    "import tensorflow as tf\n",
    "import glob\n",
    "\n",
    "from sklearn.model_selection import train_test_split\n",
    "from sklearn.model_selection import KFold\n",
    "from sklearn.metrics import accuracy_score, precision_score, recall_score, confusion_matrix, roc_curve, roc_auc_score\n",
    "from sklearn.model_selection import GridSearchCV\n",
    "from sklearn.preprocessing import LabelEncoder\n",
    "\n",
    "import IPython.display as ipd\n",
    "\n",
    "import matplotlib.pyplot as plt\n",
    "import matplotlib.image as mpimg\n",
    "from matplotlib import style\n",
    "import seaborn as sns\n",
    "\n",
    "%matplotlib inline\n",
    "sns.set(style='whitegrid', color_codes=True)\n",
    "\n",
    "# Pre processing\n",
    "\n",
    "# Deep learning"
   ]
  },
  {
   "cell_type": "code",
   "execution_count": 2,
   "metadata": {
    "ExecuteTime": {
     "end_time": "2019-09-24T22:52:08.038310Z",
     "start_time": "2019-09-24T22:52:08.026733Z"
    }
   },
   "outputs": [],
   "source": [
    "seed = 100\n",
    "np.random.seed(seed)\n",
    "rn.seed(seed)\n",
    "tf.set_random_seed(seed)"
   ]
  },
  {
   "cell_type": "code",
   "execution_count": 3,
   "metadata": {
    "ExecuteTime": {
     "end_time": "2019-09-24T22:52:13.551881Z",
     "start_time": "2019-09-24T22:52:08.847718Z"
    }
   },
   "outputs": [],
   "source": [
    "labels = pd.read_csv('train_labels.csv')\n",
    "sample_solution = pd.read_csv('sample_submission.csv')\n",
    "train = np.load('train_data.npy')\n",
    "test = np.load('test_data.npy')"
   ]
  },
  {
   "cell_type": "code",
   "execution_count": 4,
   "metadata": {
    "ExecuteTime": {
     "end_time": "2019-09-24T22:52:14.086822Z",
     "start_time": "2019-09-24T22:52:14.077663Z"
    }
   },
   "outputs": [
    {
     "name": "stdout",
     "output_type": "stream",
     "text": [
      "(3999, 44100)\n",
      "(3997, 44100)\n",
      "(3999, 2)\n"
     ]
    }
   ],
   "source": [
    "print(train.shape)\n",
    "print(test.shape)\n",
    "print(labels.shape)"
   ]
  },
  {
   "cell_type": "code",
   "execution_count": 5,
   "metadata": {
    "ExecuteTime": {
     "end_time": "2019-09-24T22:52:15.150290Z",
     "start_time": "2019-09-24T22:52:15.139757Z"
    }
   },
   "outputs": [],
   "source": [
    "# sampling frequency\n",
    "fs = 44100\n",
    "#sd.play(train[6], fs)\n",
    "#sd.play(test[34], fs)"
   ]
  },
  {
   "cell_type": "code",
   "execution_count": 14,
   "metadata": {
    "ExecuteTime": {
     "end_time": "2019-09-24T22:57:03.431732Z",
     "start_time": "2019-09-24T22:57:02.932843Z"
    }
   },
   "outputs": [
    {
     "name": "stdout",
     "output_type": "stream",
     "text": [
      "[1. 0.]\n",
      "TRAIN SHAPE\n",
      "(3439, 210, 210, 1) (3439, 2)\n",
      "TEST SHAPE\n",
      "(560, 210, 210, 1) (560, 2)\n"
     ]
    }
   ],
   "source": [
    "# train: we see 3999 records of data with sampling frequency of 44100\n",
    "# test: we see 3997 records of data with sampling frequency of 44100\n",
    "\n",
    "drop_labels = labels.drop('Id',1)\n",
    "Y = to_categorical(drop_labels ,2)\n",
    "\n",
    "print(Y[2])\n",
    "\n",
    "train_2d = train.reshape(-1,210,210,1)\n",
    "test_2d = test.reshape(-1,210,210,1)\n",
    "\n",
    "x_train, x_test, y_train, y_test = train_test_split(\n",
    "    train_2d, Y, test_size=0.14, random_state=seed)\n",
    "\n",
    "\n",
    "print(\"TRAIN SHAPE\")\n",
    "print(x_train.shape, y_train.shape)\n",
    "print(\"TEST SHAPE\")\n",
    "print(x_test.shape, y_test.shape)"
   ]
  },
  {
   "cell_type": "code",
   "execution_count": 15,
   "metadata": {
    "ExecuteTime": {
     "end_time": "2019-09-24T22:57:03.615895Z",
     "start_time": "2019-09-24T22:57:03.612640Z"
    }
   },
   "outputs": [
    {
     "name": "stdout",
     "output_type": "stream",
     "text": [
      "# of samples / timestamps: 3439\n",
      "frequency    / features  : 210\n",
      "# of outputs / outputs   : 3439\n"
     ]
    }
   ],
   "source": [
    "n_timesteps, n_features, n_outputs = x_train.shape[0], x_train.shape[1], y_train.shape[0]\n",
    "print('# of samples / timestamps:', n_timesteps)\n",
    "print('frequency    / features  :', n_features)\n",
    "print('# of outputs / outputs   :', n_outputs)"
   ]
  },
  {
   "cell_type": "code",
   "execution_count": 153,
   "metadata": {
    "ExecuteTime": {
     "end_time": "2019-09-24T23:17:24.933649Z",
     "start_time": "2019-09-24T23:17:24.799439Z"
    }
   },
   "outputs": [],
   "source": [
    "# create convolution neural network\n",
    "model = Sequential()\n",
    "model.add(Conv2D(filters = 8, kernel_size=(3, 3),\n",
    "                padding = 'same',\n",
    "                activation = 'tanh',\n",
    "                input_shape=(210,210,1)))\n",
    "model.add(MaxPooling2D(pool_size=(2, 2), strides=2))\n",
    "model.add(Conv2D(filters = 32, kernel_size = (3,3), activation='tanh'))\n",
    "model.add(MaxPooling2D(pool_size=(2, 2), strides=2))\n",
    "model.add(Conv2D(filters = 96, kernel_size = (3,3), activation='tanh'))\n",
    "model.add(MaxPooling2D(pool_size=(2, 2), strides=2))\n",
    "model.add(Conv2D(filters = 96, kernel_size = (3,3), activation='tanh'))\n",
    "model.add(MaxPooling2D(pool_size=(2, 2), strides=2))\n",
    "model.add(Conv2D(filters = 96, kernel_size = (3,3), activation='tanh'))\n",
    "model.add(MaxPooling2D(pool_size=(2, 2), strides=2))\n",
    "model.add(Flatten())\n",
    "model.add(Dense(72, activation='tanh')),\n",
    "model.add(Dense(16, activation='tanh')),\n",
    "model.add(Dense(2, activation='softmax'))"
   ]
  },
  {
   "cell_type": "code",
   "execution_count": 154,
   "metadata": {
    "ExecuteTime": {
     "end_time": "2019-09-24T23:17:25.443189Z",
     "start_time": "2019-09-24T23:17:25.429716Z"
    }
   },
   "outputs": [
    {
     "name": "stdout",
     "output_type": "stream",
     "text": [
      "Model: \"sequential_24\"\n",
      "_________________________________________________________________\n",
      "Layer (type)                 Output Shape              Param #   \n",
      "=================================================================\n",
      "conv2d_93 (Conv2D)           (None, 210, 210, 8)       80        \n",
      "_________________________________________________________________\n",
      "max_pooling2d_93 (MaxPooling (None, 105, 105, 8)       0         \n",
      "_________________________________________________________________\n",
      "conv2d_94 (Conv2D)           (None, 103, 103, 32)      2336      \n",
      "_________________________________________________________________\n",
      "max_pooling2d_94 (MaxPooling (None, 51, 51, 32)        0         \n",
      "_________________________________________________________________\n",
      "conv2d_95 (Conv2D)           (None, 49, 49, 96)        27744     \n",
      "_________________________________________________________________\n",
      "max_pooling2d_95 (MaxPooling (None, 24, 24, 96)        0         \n",
      "_________________________________________________________________\n",
      "conv2d_96 (Conv2D)           (None, 22, 22, 96)        83040     \n",
      "_________________________________________________________________\n",
      "max_pooling2d_96 (MaxPooling (None, 11, 11, 96)        0         \n",
      "_________________________________________________________________\n",
      "conv2d_97 (Conv2D)           (None, 9, 9, 96)          83040     \n",
      "_________________________________________________________________\n",
      "max_pooling2d_97 (MaxPooling (None, 4, 4, 96)          0         \n",
      "_________________________________________________________________\n",
      "flatten_24 (Flatten)         (None, 1536)              0         \n",
      "_________________________________________________________________\n",
      "dense_56 (Dense)             (None, 72)                110664    \n",
      "_________________________________________________________________\n",
      "dense_57 (Dense)             (None, 16)                1168      \n",
      "_________________________________________________________________\n",
      "dense_58 (Dense)             (None, 2)                 34        \n",
      "=================================================================\n",
      "Total params: 308,106\n",
      "Trainable params: 308,106\n",
      "Non-trainable params: 0\n",
      "_________________________________________________________________\n"
     ]
    }
   ],
   "source": [
    "model.summary()"
   ]
  },
  {
   "cell_type": "code",
   "execution_count": 155,
   "metadata": {
    "ExecuteTime": {
     "end_time": "2019-09-24T23:17:28.254753Z",
     "start_time": "2019-09-24T23:17:28.244003Z"
    }
   },
   "outputs": [],
   "source": [
    "from tensorflow.keras.callbacks import ReduceLROnPlateau\n",
    "red_lr= ReduceLROnPlateau(monitor='val_acc',patience=3,verbose=1,factor=0.1)"
   ]
  },
  {
   "cell_type": "code",
   "execution_count": 156,
   "metadata": {
    "ExecuteTime": {
     "end_time": "2019-09-24T23:18:56.612664Z",
     "start_time": "2019-09-24T23:17:29.177609Z"
    }
   },
   "outputs": [
    {
     "name": "stdout",
     "output_type": "stream",
     "text": [
      "Train on 3439 samples, validate on 560 samples\n",
      "Epoch 1/30\n",
      "3439/3439 [==============================] - 4s 1ms/sample - loss: 0.3531 - acc: 0.8345 - val_loss: 0.2311 - val_acc: 0.9036\n",
      "Epoch 2/30\n",
      "3439/3439 [==============================] - 3s 820us/sample - loss: 0.2085 - acc: 0.9128 - val_loss: 0.2004 - val_acc: 0.9107\n",
      "Epoch 3/30\n",
      "3439/3439 [==============================] - 3s 818us/sample - loss: 0.1836 - acc: 0.9189 - val_loss: 0.1934 - val_acc: 0.9161\n",
      "Epoch 4/30\n",
      "3439/3439 [==============================] - 3s 825us/sample - loss: 0.1614 - acc: 0.9322 - val_loss: 0.1692 - val_acc: 0.9393\n",
      "Epoch 5/30\n",
      "3439/3439 [==============================] - 3s 819us/sample - loss: 0.1417 - acc: 0.9416 - val_loss: 0.1556 - val_acc: 0.9411\n",
      "Epoch 6/30\n",
      "3439/3439 [==============================] - 3s 828us/sample - loss: 0.1338 - acc: 0.9445 - val_loss: 0.1560 - val_acc: 0.9446\n",
      "Epoch 7/30\n",
      "3439/3439 [==============================] - 3s 824us/sample - loss: 0.1211 - acc: 0.9474 - val_loss: 0.1371 - val_acc: 0.9464\n",
      "Epoch 8/30\n",
      "3439/3439 [==============================] - 3s 822us/sample - loss: 0.1082 - acc: 0.9546 - val_loss: 0.1456 - val_acc: 0.9393\n",
      "Epoch 9/30\n",
      "3439/3439 [==============================] - 3s 823us/sample - loss: 0.1025 - acc: 0.9552 - val_loss: 0.1287 - val_acc: 0.9536\n",
      "Epoch 10/30\n",
      "3439/3439 [==============================] - 3s 822us/sample - loss: 0.0966 - acc: 0.9573 - val_loss: 0.1520 - val_acc: 0.9339\n",
      "Epoch 11/30\n",
      "3439/3439 [==============================] - 3s 826us/sample - loss: 0.0956 - acc: 0.9628 - val_loss: 0.1360 - val_acc: 0.9464\n",
      "Epoch 12/30\n",
      "3439/3439 [==============================] - 3s 827us/sample - loss: 0.0807 - acc: 0.9669 - val_loss: 0.1363 - val_acc: 0.9500\n",
      "Epoch 13/30\n",
      "3439/3439 [==============================] - 3s 827us/sample - loss: 0.0742 - acc: 0.9709 - val_loss: 0.1338 - val_acc: 0.9446\n",
      "Epoch 14/30\n",
      "3439/3439 [==============================] - 3s 825us/sample - loss: 0.0661 - acc: 0.9782 - val_loss: 0.1390 - val_acc: 0.9446\n",
      "Epoch 15/30\n",
      "3439/3439 [==============================] - 3s 824us/sample - loss: 0.0575 - acc: 0.9799 - val_loss: 0.1310 - val_acc: 0.9500\n",
      "Epoch 16/30\n",
      "3439/3439 [==============================] - 3s 830us/sample - loss: 0.0562 - acc: 0.9805 - val_loss: 0.1636 - val_acc: 0.9482\n",
      "Epoch 17/30\n",
      "3439/3439 [==============================] - 3s 827us/sample - loss: 0.0467 - acc: 0.9852 - val_loss: 0.1446 - val_acc: 0.9571\n",
      "Epoch 18/30\n",
      "3439/3439 [==============================] - 3s 837us/sample - loss: 0.0451 - acc: 0.9849 - val_loss: 0.1466 - val_acc: 0.9482\n",
      "Epoch 19/30\n",
      "3439/3439 [==============================] - 3s 831us/sample - loss: 0.0434 - acc: 0.9852 - val_loss: 0.1579 - val_acc: 0.9482\n",
      "Epoch 20/30\n",
      "3439/3439 [==============================] - 3s 827us/sample - loss: 0.0336 - acc: 0.9895 - val_loss: 0.1447 - val_acc: 0.9518\n",
      "Epoch 21/30\n",
      "3439/3439 [==============================] - 3s 829us/sample - loss: 0.0272 - acc: 0.9919 - val_loss: 0.1705 - val_acc: 0.9464\n",
      "Epoch 22/30\n",
      "3439/3439 [==============================] - 3s 826us/sample - loss: 0.0254 - acc: 0.9921 - val_loss: 0.1603 - val_acc: 0.9482\n",
      "Epoch 23/30\n",
      "3439/3439 [==============================] - 3s 828us/sample - loss: 0.0189 - acc: 0.9959 - val_loss: 0.1708 - val_acc: 0.9536\n",
      "Epoch 24/30\n",
      "3439/3439 [==============================] - 3s 824us/sample - loss: 0.0173 - acc: 0.9962 - val_loss: 0.1499 - val_acc: 0.9500\n",
      "Epoch 25/30\n",
      "3439/3439 [==============================] - 3s 833us/sample - loss: 0.0164 - acc: 0.9951 - val_loss: 0.1486 - val_acc: 0.9500\n",
      "Epoch 26/30\n",
      "3439/3439 [==============================] - 3s 837us/sample - loss: 0.0152 - acc: 0.9965 - val_loss: 0.1862 - val_acc: 0.9518\n",
      "Epoch 27/30\n",
      "3439/3439 [==============================] - 3s 834us/sample - loss: 0.0165 - acc: 0.9956 - val_loss: 0.1820 - val_acc: 0.9518\n",
      "Epoch 28/30\n",
      "3439/3439 [==============================] - 3s 829us/sample - loss: 0.0136 - acc: 0.9968 - val_loss: 0.1831 - val_acc: 0.9446\n",
      "Epoch 29/30\n",
      "3439/3439 [==============================] - 3s 825us/sample - loss: 0.0100 - acc: 0.9983 - val_loss: 0.1661 - val_acc: 0.9482\n",
      "Epoch 30/30\n",
      "3439/3439 [==============================] - 3s 842us/sample - loss: 0.0130 - acc: 0.9968 - val_loss: 0.1682 - val_acc: 0.9500\n"
     ]
    }
   ],
   "source": [
    "epochs, batch_size = 30, 256\n",
    "model.compile(optimizer=Adam(lr=0.001),loss='categorical_crossentropy',metrics=['accuracy'])\n",
    "# fit network\n",
    "mf = model.fit(x_train, y_train, epochs=epochs, batch_size=batch_size,\n",
    "          validation_data=(x_test, y_test))"
   ]
  },
  {
   "cell_type": "code",
   "execution_count": 163,
   "metadata": {
    "ExecuteTime": {
     "end_time": "2019-09-24T23:20:42.704004Z",
     "start_time": "2019-09-24T23:20:42.504581Z"
    }
   },
   "outputs": [
    {
     "data": {
      "image/png": "[encoded data removed]",
      "text/plain": [
       "<Figure size 432x288 with 1 Axes>"
      ]
     },
     "metadata": {
      "needs_background": "light"
     },
     "output_type": "display_data"
    }
   ],
   "source": [
    "plt.plot(mf.history['loss'])\n",
    "plt.plot(mf.history['val_loss'])\n",
    "plt.title('Model Loss')\n",
    "plt.xlabel('Epochs')\n",
    "plt.ylabel('Loss')\n",
    "\n",
    "plt.legend(['train', 'validation'])\n",
    "plt.show()"
   ]
  },
  {
   "cell_type": "code",
   "execution_count": 164,
   "metadata": {
    "ExecuteTime": {
     "end_time": "2019-09-24T23:20:43.721730Z",
     "start_time": "2019-09-24T23:20:43.530427Z"
    }
   },
   "outputs": [
    {
     "data": {
      "image/png": "[encoded data removed]",
      "text/plain": [
       "<Figure size 432x288 with 1 Axes>"
      ]
     },
     "metadata": {
      "needs_background": "light"
     },
     "output_type": "display_data"
    }
   ],
   "source": [
    "plt.plot(mf.history['acc'])\n",
    "plt.plot(mf.history['val_acc'])\n",
    "plt.title('Model Acc')\n",
    "plt.xlabel('Epochs')\n",
    "plt.ylabel('Accuracy')\n",
    "\n",
    "plt.legend(['train', 'validation'])\n",
    "plt.show()"
   ]
  },
  {
   "cell_type": "code",
   "execution_count": 165,
   "metadata": {
    "ExecuteTime": {
     "end_time": "2019-09-24T23:20:44.376256Z",
     "start_time": "2019-09-24T23:20:44.151660Z"
    }
   },
   "outputs": [
    {
     "name": "stdout",
     "output_type": "stream",
     "text": [
      "560/560 [==============================] - 0s 386us/sample - loss: 0.1682 - acc: 0.9500\n"
     ]
    }
   ],
   "source": [
    "score = model.evaluate(x_test, y_test, batch_size=batch_size)"
   ]
  },
  {
   "cell_type": "code",
   "execution_count": 166,
   "metadata": {
    "ExecuteTime": {
     "end_time": "2019-09-24T23:20:46.259873Z",
     "start_time": "2019-09-24T23:20:45.128068Z"
    }
   },
   "outputs": [
    {
     "name": "stdout",
     "output_type": "stream",
     "text": [
      "[0 0 0 ... 0 0 1]\n"
     ]
    }
   ],
   "source": [
    "final_predictions = model.predict_classes(test_2d)\n",
    "print(final_predictions)"
   ]
  },
  {
   "cell_type": "code",
   "execution_count": 167,
   "metadata": {
    "ExecuteTime": {
     "end_time": "2019-09-24T23:20:46.441837Z",
     "start_time": "2019-09-24T23:20:46.436973Z"
    }
   },
   "outputs": [],
   "source": [
    "i=0\n",
    "correct_classifications=[]\n",
    "incorrect_classifications=[]\n",
    "\n",
    "for i in range(len(y_test)):\n",
    "    if(np.argmax(y_test[i]) == final_predictions[i]):\n",
    "        correct_classifications.append(i)\n",
    "\n",
    "i=0\n",
    "for i in range(len(y_test)):\n",
    "    if(not np.argmax(y_test[i]) == final_predictions[i]):\n",
    "        incorrect_classifications.append(i)"
   ]
  },
  {
   "cell_type": "code",
   "execution_count": 168,
   "metadata": {
    "ExecuteTime": {
     "end_time": "2019-09-24T23:20:46.700173Z",
     "start_time": "2019-09-24T23:20:46.695640Z"
    }
   },
   "outputs": [
    {
     "name": "stdout",
     "output_type": "stream",
     "text": [
      "439\n",
      "121\n"
     ]
    }
   ],
   "source": [
    "print (len(correct_classifications))\n",
    "print (len(incorrect_classifications))"
   ]
  },
  {
   "cell_type": "code",
   "execution_count": null,
   "metadata": {
    "ExecuteTime": {
     "end_time": "2019-09-24T22:38:52.744999Z",
     "start_time": "2019-09-24T22:38:52.740455Z"
    }
   },
   "outputs": [],
   "source": [
    "sample_solution['Label'] = final_predictions"
   ]
  },
  {
   "cell_type": "code",
   "execution_count": null,
   "metadata": {
    "ExecuteTime": {
     "end_time": "2019-09-24T22:38:56.276598Z",
     "start_time": "2019-09-24T22:38:56.258450Z"
    }
   },
   "outputs": [],
   "source": [
    "sample_solution.to_csv('audio_binary_classification_predict-5.csv', index=False)"
   ]
  },
  {
   "cell_type": "code",
   "execution_count": null,
   "metadata": {},
   "outputs": [],
   "source": []
  }
 ],
 "metadata": {
  "hide_input": false,
  "kernelspec": {
   "display_name": "Python (machine-learning)",
   "language": "python",
   "name": "machine-learning"
  },
  "language_info": {
   "codemirror_mode": {
    "name": "ipython",
    "version": 3
   },
   "file_extension": ".py",
   "mimetype": "text/x-python",
   "name": "python",
   "nbconvert_exporter": "python",
   "pygments_lexer": "ipython3",
   "version": "3.7.4"
  },
  "varInspector": {
   "cols": {
    "lenName": 16,
    "lenType": 16,
    "lenVar": 40
   },
   "kernels_config": {
    "python": {
     "delete_cmd_postfix": "",
     "delete_cmd_prefix": "del ",
     "library": "var_list.py",
     "varRefreshCmd": "print(var_dic_list())"
    },
    "r": {
     "delete_cmd_postfix": ") ",
     "delete_cmd_prefix": "rm(",
     "library": "var_list.r",
     "varRefreshCmd": "cat(var_dic_list()) "
    }
   },
   "position": {
    "height": "674px",
    "left": "1127px",
    "right": "20px",
    "top": "199px",
    "width": "693px"
   },
   "types_to_exclude": [
    "module",
    "function",
    "builtin_function_or_method",
    "instance",
    "_Feature"
   ],
   "window_display": false
  }
 },
 "nbformat": 4,
 "nbformat_minor": 2
}
