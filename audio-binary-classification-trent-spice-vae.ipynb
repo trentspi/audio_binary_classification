{
 "cells": [
  {
   "cell_type": "code",
   "execution_count": 33,
   "metadata": {
    "ExecuteTime": {
     "end_time": "2019-09-23T23:34:29.104831Z",
     "start_time": "2019-09-23T23:34:29.078517Z"
    }
   },
   "outputs": [],
   "source": [
    "from __future__ import absolute_import\n",
    "from __future__ import division\n",
    "from __future__ import print_function\n",
    "\n",
    "from tensorflow.keras.utils import to_categorical\n",
    "from tensorflow.keras.layers import Conv2D, Flatten, Lambda, BatchNormalization, Conv1D\n",
    "from tensorflow.keras.layers import Reshape, Conv2DTranspose, UpSampling2D\n",
    "from tensorflow.keras.layers import Dense, Dropout, Activation, Flatten, Input, Lambda\n",
    "from tensorflow.keras.models import Sequential, Model\n",
    "from tensorflow.keras.losses import mse, binary_crossentropy\n",
    "from tensorflow.keras.utils import plot_model\n",
    "from tensorflow.keras import backend as K\n",
    "from tensorflow.keras.callbacks import LearningRateScheduler\n",
    "from tensorflow.keras.preprocessing.image import ImageDataGenerator\n",
    "from tensorflow.keras.datasets import mnist\n",
    "import os\n",
    "from os.path import isdir, join\n",
    "from pathlib import Path\n",
    "import pandas as pd\n",
    "\n",
    "import random as rn\n",
    "import numpy as np\n",
    "import easydict\n",
    "from scipy.fftpack import fft\n",
    "from scipy import signal\n",
    "from scipy.io import wavfile\n",
    "\n",
    "import sounddevice as sd\n",
    "\n",
    "import pandas as pd\n",
    "import tensorflow as tf\n",
    "import glob\n",
    "import pydot\n",
    "\n",
    "from sklearn.model_selection import train_test_split\n",
    "from sklearn.model_selection import KFold\n",
    "from sklearn.metrics import accuracy_score, precision_score, recall_score, confusion_matrix, roc_curve, roc_auc_score\n",
    "from sklearn.model_selection import GridSearchCV\n",
    "from sklearn.preprocessing import LabelEncoder\n",
    "\n",
    "import IPython.display as ipd\n",
    "\n",
    "import matplotlib.pyplot as plt\n",
    "import matplotlib.image as mpimg\n",
    "from matplotlib import style\n",
    "import seaborn as sns\n",
    "\n",
    "%matplotlib inline\n",
    "sns.set(style='whitegrid', color_codes=True)"
   ]
  },
  {
   "cell_type": "code",
   "execution_count": 34,
   "metadata": {
    "ExecuteTime": {
     "end_time": "2019-09-23T23:34:29.921684Z",
     "start_time": "2019-09-23T23:34:29.913259Z"
    }
   },
   "outputs": [],
   "source": [
    "seed = 100\n",
    "np.random.seed(seed)\n",
    "rn.seed(seed)\n",
    "tf.set_random_seed(seed)"
   ]
  },
  {
   "cell_type": "code",
   "execution_count": 35,
   "metadata": {
    "ExecuteTime": {
     "end_time": "2019-09-23T23:34:31.822382Z",
     "start_time": "2019-09-23T23:34:30.957485Z"
    }
   },
   "outputs": [],
   "source": [
    "labels = pd.read_csv('train_labels.csv')\n",
    "sample_solution = pd.read_csv('sample_submission.csv')\n",
    "train = np.load('train_data.npy')\n",
    "test = np.load('test_data.npy')\n",
    "\n",
    "labels = labels.drop('Id', 1)"
   ]
  },
  {
   "cell_type": "code",
   "execution_count": 36,
   "metadata": {
    "ExecuteTime": {
     "end_time": "2019-09-23T23:34:33.582977Z",
     "start_time": "2019-09-23T23:34:33.111128Z"
    }
   },
   "outputs": [
    {
     "name": "stdout",
     "output_type": "stream",
     "text": [
      "TRAIN SHAPE\n",
      "(3599, 44100)\n",
      "TEST SHAPE\n",
      "(400, 44100)\n"
     ]
    }
   ],
   "source": [
    "Y = to_categorical(labels, 2)\n",
    "x_train, x_test, y_train, y_test = train_test_split(\n",
    "    train, Y, test_size=0.1, random_state=seed)\n",
    "\n",
    "print(\"TRAIN SHAPE\")\n",
    "print(x_train.shape)\n",
    "print(\"TEST SHAPE\")\n",
    "print(x_test.shape)\n",
    "\n",
    "\n",
    "image_size = x_train.shape[1]"
   ]
  },
  {
   "cell_type": "code",
   "execution_count": 37,
   "metadata": {
    "ExecuteTime": {
     "end_time": "2019-09-23T23:34:35.176425Z",
     "start_time": "2019-09-23T23:34:35.163276Z"
    }
   },
   "outputs": [],
   "source": [
    "batch_size = 61\n",
    "dense_z = 2\n",
    "epoch = 10"
   ]
  },
  {
   "cell_type": "code",
   "execution_count": 38,
   "metadata": {
    "ExecuteTime": {
     "end_time": "2019-09-23T23:34:36.296580Z",
     "start_time": "2019-09-23T23:34:36.225555Z"
    }
   },
   "outputs": [],
   "source": [
    "# encoder\n",
    "inputs = Input(shape=(44100,))\n",
    "hidden_q = Dense(16, activation='relu')(inputs)\n",
    "u = Dense(dense_z, activation='linear')(hidden_q)\n",
    "log_sigma = Dense(dense_z, activation='linear')(hidden_q)"
   ]
  },
  {
   "cell_type": "code",
   "execution_count": 39,
   "metadata": {
    "ExecuteTime": {
     "end_time": "2019-09-23T23:34:37.506687Z",
     "start_time": "2019-09-23T23:34:37.479696Z"
    }
   },
   "outputs": [],
   "source": [
    "def sample_z(args):\n",
    "    u, log_sigma = args\n",
    "    eps = K.random_normal(shape=(m, dense_z), mean=0., stddev=1.)\n",
    "    return u + K.exp(log_sigma / 2) * eps\n",
    "\n",
    "\n",
    "z = Lambda(sample_z)([u, log_sigma])"
   ]
  },
  {
   "cell_type": "code",
   "execution_count": 40,
   "metadata": {
    "ExecuteTime": {
     "end_time": "2019-09-23T23:34:40.065589Z",
     "start_time": "2019-09-23T23:34:40.013892Z"
    }
   },
   "outputs": [],
   "source": [
    "# decoder\n",
    "decoder_hidden = Dense(128, activation='relu')\n",
    "decoder_out = Dense(44100, activation='sigmoid')\n",
    "\n",
    "hidden_p = decoder_hidden(z)\n",
    "outputs = decoder_out(hidden_p)"
   ]
  },
  {
   "cell_type": "code",
   "execution_count": 41,
   "metadata": {
    "ExecuteTime": {
     "end_time": "2019-09-23T23:34:41.212654Z",
     "start_time": "2019-09-23T23:34:41.198744Z"
    }
   },
   "outputs": [
    {
     "name": "stdout",
     "output_type": "stream",
     "text": [
      "Model: \"model_6\"\n",
      "__________________________________________________________________________________________________\n",
      "Layer (type)                    Output Shape         Param #     Connected to                     \n",
      "==================================================================================================\n",
      "input_6 (InputLayer)            [(None, 44100)]      0                                            \n",
      "__________________________________________________________________________________________________\n",
      "dense_12 (Dense)                (None, 16)           705616      input_6[0][0]                    \n",
      "__________________________________________________________________________________________________\n",
      "dense_13 (Dense)                (None, 2)            34          dense_12[0][0]                   \n",
      "__________________________________________________________________________________________________\n",
      "dense_14 (Dense)                (None, 2)            34          dense_12[0][0]                   \n",
      "__________________________________________________________________________________________________\n",
      "lambda_3 (Lambda)               (61, 2)              0           dense_13[0][0]                   \n",
      "                                                                 dense_14[0][0]                   \n",
      "__________________________________________________________________________________________________\n",
      "dense_15 (Dense)                (61, 128)            384         lambda_3[0][0]                   \n",
      "__________________________________________________________________________________________________\n",
      "dense_16 (Dense)                (61, 44100)          5688900     dense_15[0][0]                   \n",
      "==================================================================================================\n",
      "Total params: 6,394,968\n",
      "Trainable params: 6,394,968\n",
      "Non-trainable params: 0\n",
      "__________________________________________________________________________________________________\n"
     ]
    }
   ],
   "source": [
    "vae = Model(inputs, outputs)\n",
    "\n",
    "vae.summary()\n",
    "\n",
    "encoder = Model(inputs, u)\n",
    "\n",
    "# generator model, uses latent variable\n",
    "d_in = Input(shape=(dense_z,))\n",
    "d_h = decoder_hidden(d_in)\n",
    "d_out = decoder_out(d_h)\n",
    "decoder = Model(d_in, d_out)"
   ]
  },
  {
   "cell_type": "code",
   "execution_count": 42,
   "metadata": {
    "ExecuteTime": {
     "end_time": "2019-09-23T23:34:42.245936Z",
     "start_time": "2019-09-23T23:34:42.233275Z"
    }
   },
   "outputs": [],
   "source": [
    "def vae_loss(y_true, y_pred):\n",
    "    print('y_true', y_true)\n",
    "    print('y_pred', y_pred)\n",
    "    # calculate loss\n",
    "    r = K.sum(K.binary_crossentropy(y_pred, y_true), axis=1)\n",
    "    print(r)\n",
    "    kl = 0.5 * K.sum(K.exp(log_sigma) + K.square(u) - 1. - log_sigma, axis=1)\n",
    "    print(kl)\n",
    "\n",
    "    return r + kl"
   ]
  },
  {
   "cell_type": "code",
   "execution_count": 43,
   "metadata": {
    "ExecuteTime": {
     "end_time": "2019-09-23T23:34:54.851835Z",
     "start_time": "2019-09-23T23:34:43.461255Z"
    },
    "scrolled": true
   },
   "outputs": [
    {
     "name": "stdout",
     "output_type": "stream",
     "text": [
      "y_true Tensor(\"dense_16_target:0\", shape=(?, ?), dtype=float32)\n",
      "y_pred Tensor(\"dense_16/Sigmoid:0\", shape=(61, 44100), dtype=float32)\n",
      "Tensor(\"loss_4/dense_16_loss/Sum:0\", shape=(61,), dtype=float32)\n",
      "Tensor(\"loss_4/dense_16_loss/mul_2:0\", shape=(?,), dtype=float32)\n",
      "Epoch 1/10\n",
      "3599/3599 [==============================] - 2s 424us/sample - loss: 1080895128601293.7500\n",
      "Epoch 2/10\n",
      "3599/3599 [==============================] - 1s 295us/sample - loss: nan\n",
      "Epoch 3/10\n",
      "3599/3599 [==============================] - 1s 302us/sample - loss: nan\n",
      "Epoch 4/10\n",
      "3599/3599 [==============================] - 1s 294us/sample - loss: nan\n",
      "Epoch 5/10\n",
      "3599/3599 [==============================] - 1s 295us/sample - loss: nan\n",
      "Epoch 6/10\n",
      "3599/3599 [==============================] - 1s 298us/sample - loss: nan\n",
      "Epoch 7/10\n",
      "3599/3599 [==============================] - 1s 295us/sample - loss: nan\n",
      "Epoch 8/10\n",
      "3599/3599 [==============================] - 1s 297us/sample - loss: nan\n",
      "Epoch 9/10\n",
      "3599/3599 [==============================] - 1s 296us/sample - loss: nan\n",
      "Epoch 10/10\n",
      "3599/3599 [==============================] - 1s 296us/sample - loss: nan\n"
     ]
    },
    {
     "data": {
      "text/plain": [
       "<tensorflow.python.keras.callbacks.History at 0x7f75439e4bd0>"
      ]
     },
     "execution_count": 43,
     "metadata": {},
     "output_type": "execute_result"
    }
   ],
   "source": [
    "vae.compile(optimizer='adam', loss=vae_loss)\n",
    "vae.fit(x_train, x_train, batch_size=m, epochs=n_epoch)"
   ]
  },
  {
   "cell_type": "code",
   "execution_count": 45,
   "metadata": {
    "ExecuteTime": {
     "end_time": "2019-09-23T23:35:02.578330Z",
     "start_time": "2019-09-23T23:35:02.301749Z"
    }
   },
   "outputs": [
    {
     "data": {
      "image/png": "[encoded data removed]",
      "text/plain": [
       "<Figure size 432x432 with 2 Axes>"
      ]
     },
     "metadata": {},
     "output_type": "display_data"
    }
   ],
   "source": [
    "x_test_encoded = encoder.predict(x_test, batch_size=m)\n",
    "plt.figure(figsize=(6, 6))\n",
    "plt.scatter(x_test_encoded[:, 0], x_test_encoded[:, 1])\n",
    "plt.colorbar()\n",
    "plt.show()"
   ]
  },
  {
   "cell_type": "code",
   "execution_count": null,
   "metadata": {
    "ExecuteTime": {
     "end_time": "2019-09-22T13:46:29.072823Z",
     "start_time": "2019-09-22T13:42:16.019413Z"
    }
   },
   "outputs": [],
   "source": []
  },
  {
   "cell_type": "code",
   "execution_count": null,
   "metadata": {},
   "outputs": [],
   "source": []
  }
 ],
 "metadata": {
  "hide_input": false,
  "kernelspec": {
   "display_name": "Python (machine-learning)",
   "language": "python",
   "name": "machine-learning"
  },
  "language_info": {
   "codemirror_mode": {
    "name": "ipython",
    "version": 3
   },
   "file_extension": ".py",
   "mimetype": "text/x-python",
   "name": "python",
   "nbconvert_exporter": "python",
   "pygments_lexer": "ipython3",
   "version": "3.7.4"
  },
  "varInspector": {
   "cols": {
    "lenName": 16,
    "lenType": 16,
    "lenVar": 40
   },
   "kernels_config": {
    "python": {
     "delete_cmd_postfix": "",
     "delete_cmd_prefix": "del ",
     "library": "var_list.py",
     "varRefreshCmd": "print(var_dic_list())"
    },
    "r": {
     "delete_cmd_postfix": ") ",
     "delete_cmd_prefix": "rm(",
     "library": "var_list.r",
     "varRefreshCmd": "cat(var_dic_list()) "
    }
   },
   "types_to_exclude": [
    "module",
    "function",
    "builtin_function_or_method",
    "instance",
    "_Feature"
   ],
   "window_display": false
  }
 },
 "nbformat": 4,
 "nbformat_minor": 2
}
